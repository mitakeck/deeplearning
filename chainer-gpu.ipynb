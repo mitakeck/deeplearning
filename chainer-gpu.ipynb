{
 "cells": [
  {
   "cell_type": "code",
   "execution_count": 3,
   "metadata": {
    "collapsed": false
   },
   "outputs": [],
   "source": [
    "import numpy as np\n",
    "import chainer\n",
    "from chainer import cuda, Function, gradient_check, report, training, utils, Variable\n",
    "from chainer import datasets, iterators, optimizers, serializers\n",
    "from chainer import Link, Chain, ChainList\n",
    "import chainer.functions as F\n",
    "import chainer.links as L\n",
    "from chainer.training import extensions\n",
    "import cupy\n",
    "import cupy.cudnn"
   ]
  },
  {
   "cell_type": "code",
   "execution_count": 5,
   "metadata": {
    "collapsed": false
   },
   "outputs": [],
   "source": [
    "with cupy.cuda.Device(0):\n",
    "    x_on_gpu1 = cupy.array([1, 2, 3, 4, 5])"
   ]
  },
  {
   "cell_type": "markdown",
   "metadata": {
    "collapsed": false
   },
   "source": [
    "```\n",
    "$ ./deviceQuery                                         \n",
    "./deviceQuery Starting...                                                                                                          \n",
    "                                                                                                                                   \n",
    " CUDA Device Query (Runtime API) version (CUDART static linking)                                                                   \n",
    "                                                                                                                                   \n",
    "Detected 1 CUDA Capable device(s)                                                                                                  \n",
    "                                                                                                                                   \n",
    "Device 0: \"GeForce GTX 460M\"                                                                                                       \n",
    "  CUDA Driver Version / Runtime Version          8.0 / 8.0                                                                         \n",
    "  CUDA Capability Major/Minor version number:    2.1                                                                               \n",
    "  Total amount of global memory:                 1475 MBytes (1546256384 bytes)                                                    \n",
    "  ( 4) Multiprocessors, ( 48) CUDA Cores/MP:     192 CUDA Cores                                                                    \n",
    "  GPU Max Clock rate:                            1350 MHz (1.35 GHz)                                                               \n",
    "  Memory Clock rate:                             1250 Mhz                                                                          \n",
    "  Memory Bus Width:                              192-bit                                                                           \n",
    "  L2 Cache Size:                                 393216 bytes                                                                      \n",
    "  Maximum Texture Dimension Size (x,y,z)         1D=(65536), 2D=(65536, 65535), 3D=(2048, 2048, 2048)                              \n",
    "  Maximum Layered 1D Texture Size, (num) layers  1D=(16384), 2048 layers                                                           \n",
    "  Maximum Layered 2D Texture Size, (num) layers  2D=(16384, 16384), 2048 layers                                                    \n",
    "  Total amount of constant memory:               65536 bytes                                                                       \n",
    "  Total amount of shared memory per block:       49152 bytes                                                                       \n",
    "  Total number of registers available per block: 32768                                                                             \n",
    "  Warp size:                                     32                                                                                \n",
    "  Maximum number of threads per multiprocessor:  1536                                                                              \n",
    "  Maximum number of threads per block:           1024                                                                              \n",
    "  Max dimension size of a thread block (x,y,z): (1024, 1024, 64)                                                                   \n",
    "  Max dimension size of a grid size    (x,y,z): (65535, 65535, 65535)                                                              \n",
    "  Maximum memory pitch:                          2147483647 bytes                                                                  \n",
    "  Texture alignment:                             512 bytes                                                                         \n",
    "  Concurrent copy and kernel execution:          Yes with 1 copy engine(s)                                                         \n",
    "  Run time limit on kernels:                     No                                                                                \n",
    "  Integrated GPU sharing Host Memory:            No                                                                                \n",
    "  Support host page-locked memory mapping:       Yes                                                                               \n",
    "  Alignment requirement for Surfaces:            Yes                                                                               \n",
    "  Device has ECC support:                        Disabled                                                                          \n",
    "  Device supports Unified Addressing (UVA):      Yes                                                                               \n",
    "  Device PCI Domain ID / Bus ID / location ID:   0 / 1 / 0                                                                         \n",
    "  Compute Mode:                                                                                                                    \n",
    "     < Default (multiple host threads can use ::cudaSetDevice() with device simultaneously) >                                      \n",
    "                                                                                                                                   \n",
    "deviceQuery, CUDA Driver = CUDART, CUDA Driver Version = 8.0, CUDA Runtime Version = 8.0, NumDevs = 1, Device0 = GeForce GTX 460M  \n",
    "Result = PASS                                                                                                                      \n",
    "$  \n",
    "```"
   ]
  },
  {
   "cell_type": "code",
   "execution_count": null,
   "metadata": {
    "collapsed": true
   },
   "outputs": [],
   "source": []
  }
 ],
 "metadata": {
  "kernelspec": {
   "display_name": "Python 2",
   "language": "python",
   "name": "python2"
  },
  "language_info": {
   "codemirror_mode": {
    "name": "ipython",
    "version": 2
   },
   "file_extension": ".py",
   "mimetype": "text/x-python",
   "name": "python",
   "nbconvert_exporter": "python",
   "pygments_lexer": "ipython2",
   "version": "2.7.12"
  }
 },
 "nbformat": 4,
 "nbformat_minor": 1
}
