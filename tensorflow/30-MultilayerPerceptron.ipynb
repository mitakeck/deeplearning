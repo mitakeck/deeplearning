{
 "cells": [
  {
   "cell_type": "code",
   "execution_count": 1,
   "metadata": {
    "collapsed": false
   },
   "outputs": [
    {
     "name": "stdout",
     "output_type": "stream",
     "text": [
      "Extracting MNIST_data/train-images-idx3-ubyte.gz\n",
      "Extracting MNIST_data/train-labels-idx1-ubyte.gz\n",
      "Extracting MNIST_data/t10k-images-idx3-ubyte.gz\n",
      "Extracting MNIST_data/t10k-labels-idx1-ubyte.gz\n"
     ]
    }
   ],
   "source": [
    "import tensorflow as tf\n",
    "\n",
    "from tensorflow.examples.tutorials.mnist import input_data\n",
    "mnist = input_data.read_data_sets(\"MNIST_data/\", one_hot=True)"
   ]
  },
  {
   "cell_type": "code",
   "execution_count": 2,
   "metadata": {
    "collapsed": true
   },
   "outputs": [],
   "source": [
    "# パラメタ\n",
    "learning_rate = 0.001\n",
    "training_epochs = 15\n",
    "batch_size = 100\n",
    "display_step = 1\n",
    "\n",
    "# ネットワークパラメタ\n",
    "n_hidden_1 = 256\n",
    "n_hidden_2 = 256\n",
    "n_input = 784\n",
    "n_classes = 10\n",
    "\n",
    "x = tf.placeholder(\"float\", [None, n_input])\n",
    "y = tf.placeholder(\"float\", [None, n_classes])"
   ]
  },
  {
   "cell_type": "code",
   "execution_count": 3,
   "metadata": {
    "collapsed": true
   },
   "outputs": [],
   "source": [
    "# モデル作成\n",
    "def multilayer_perceptron(x, weights, biases):\n",
    "    layer_1 = tf.add(tf.matmul(x, weights[\"h1\"]), biases[\"b1\"])\n",
    "    layer_1 = tf.nn.relu(layer_1)\n",
    "    \n",
    "    layer_2 = tf.add(tf.matmul(layer_1, weights[\"h2\"]), biases[\"b2\"])\n",
    "    layer_2 = tf.nn.relu(layer_2)\n",
    "    \n",
    "    out_layer = tf.matmul(layer_2, weights[\"out\"]) + biases[\"out\"]\n",
    "    return out_layer"
   ]
  },
  {
   "cell_type": "code",
   "execution_count": 7,
   "metadata": {
    "collapsed": false
   },
   "outputs": [],
   "source": [
    "# 各レイヤの weight と bias 変数を準備\n",
    "weights = {\n",
    "    \"h1\":  tf.Variable(tf.random_normal([n_input, n_hidden_1])),\n",
    "    \"h2\":  tf.Variable(tf.random_normal([n_hidden_1, n_hidden_2])),\n",
    "    \"out\": tf.Variable(tf.random_normal([n_hidden_2, n_classes]))\n",
    "}\n",
    "biases = {\n",
    "    \"b1\":  tf.Variable(tf.random_normal([n_hidden_1])),\n",
    "    \"b2\":  tf.Variable(tf.random_normal([n_hidden_2])),\n",
    "    \"out\": tf.Variable(tf.random_normal([n_classes]))\n",
    "}\n",
    "\n",
    "# モデル\n",
    "pred = multilayer_perceptron(x, weights, biases)\n",
    "\n",
    "# ロス関数\n",
    "cost = tf.reduce_mean(tf.nn.softmax_cross_entropy_with_logits(logits=pred, labels=y))\n",
    "# オプティマイザ\n",
    "optimizer = tf.train.AdamOptimizer(learning_rate=learning_rate).minimize(cost)\n",
    "# 初期化\n",
    "init = tf.global_variables_initializer()"
   ]
  },
  {
   "cell_type": "code",
   "execution_count": 11,
   "metadata": {
    "collapsed": false,
    "scrolled": false
   },
   "outputs": [
    {
     "name": "stdout",
     "output_type": "stream",
     "text": [
      " Epoch: 1 cost= 198.874311085\n",
      "Epoch: 2 cost= 42.5398013826\n",
      "Epoch: 3 cost= 27.27061365\n",
      "Epoch: 4 cost= 18.9288734176\n",
      "Epoch: 5 cost= 13.7186033741\n",
      "Epoch: 6 cost= 10.4595830992\n",
      "Epoch: 7 cost= 7.72970549694\n",
      "Epoch: 8 cost= 6.08657694958\n",
      "Epoch: 9 cost= 4.40319088995\n",
      "Epoch: 10 cost= 3.47731543202\n",
      "Epoch: 11 cost= 2.63684022235\n",
      "Epoch: 12 cost= 2.02644255508\n",
      "Epoch: 13 cost= 1.59156571238\n",
      "Epoch: 14 cost= 1.18133799718\n",
      "Epoch: 15 cost= 1.01100468422\n",
      "Optimization Finish\n",
      "Accuracy: 0.9467\n"
     ]
    }
   ],
   "source": [
    "# 実行\n",
    "with tf.Session() as sess:\n",
    "    sess.run(init)\n",
    "    \n",
    "    for epoch in range(training_epochs):\n",
    "        avg_cost = 0\n",
    "        total_batch = int(mnist.train.num_examples/batch_size)\n",
    "        for i in range(total_batch):\n",
    "            batch_x, batch_y = mnist.train.next_batch(batch_size)\n",
    "            _, c = sess.run([optimizer, cost], feed_dict={x: batch_x, y: batch_y})\n",
    "        \n",
    "            avg_cost += c / total_batch\n",
    "        if (epoch+1) % display_step == 0:\n",
    "            print \"Epoch:\", epoch+1, \"cost=\", avg_cost\n",
    "    \n",
    "    print \"Optimization Finish\"\n",
    "    \n",
    "    correct_prediction = tf.equal(tf.argmax(pred, 1), tf.argmax(y, 1))\n",
    "    accuracy = tf.reduce_mean(tf.cast(correct_prediction, \"float\"))\n",
    "    print \"Accuracy:\", accuracy.eval({x: mnist.test.images, y: mnist.test.labels})"
   ]
  },
  {
   "cell_type": "code",
   "execution_count": null,
   "metadata": {
    "collapsed": true
   },
   "outputs": [],
   "source": []
  }
 ],
 "metadata": {
  "kernelspec": {
   "display_name": "Python 2",
   "language": "python",
   "name": "python2"
  },
  "language_info": {
   "codemirror_mode": {
    "name": "ipython",
    "version": 2
   },
   "file_extension": ".py",
   "mimetype": "text/x-python",
   "name": "python",
   "nbconvert_exporter": "python",
   "pygments_lexer": "ipython2",
   "version": "2.7.12"
  }
 },
 "nbformat": 4,
 "nbformat_minor": 1
}
