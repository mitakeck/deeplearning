{
 "cells": [
  {
   "cell_type": "code",
   "execution_count": 1,
   "metadata": {
    "collapsed": false
   },
   "outputs": [
    {
     "name": "stdout",
     "output_type": "stream",
     "text": [
      "Extracting MNIST_data/train-images-idx3-ubyte.gz\n",
      "Extracting MNIST_data/train-labels-idx1-ubyte.gz\n",
      "Extracting MNIST_data/t10k-images-idx3-ubyte.gz\n",
      "Extracting MNIST_data/t10k-labels-idx1-ubyte.gz\n"
     ]
    }
   ],
   "source": [
    "import tensorflow as tf\n",
    "\n",
    "from tensorflow.examples.tutorials.mnist import input_data\n",
    "mnist = input_data.read_data_sets(\"MNIST_data/\", one_hot=True)"
   ]
  },
  {
   "cell_type": "code",
   "execution_count": 4,
   "metadata": {
    "collapsed": false
   },
   "outputs": [],
   "source": [
    "# パラメタ\n",
    "learning_rate = 0.01\n",
    "training_epochs = 25\n",
    "batch_size = 100\n",
    "display_step = 1\n",
    "\n",
    "# 変数\n",
    "x = tf.placeholder(tf.float32, [None, 784])\n",
    "y = tf.placeholder(tf.float32, [None, 10])\n",
    "\n",
    "# 重さ, バイアス\n",
    "w = tf.Variable(tf.zeros([784, 10]))\n",
    "b = tf.Variable(tf.zeros([10]))\n",
    "\n",
    "# softmax 関数\n",
    "pred = tf.nn.softmax(tf.add(tf.matmul(x, w), b))\n",
    "\n",
    "# クロスエントロピーによるコスト関数\n",
    "cost = tf.reduce_mean(-tf.reduce_sum(y*tf.log(pred), reduction_indices=1))\n",
    "# 最急降下法\n",
    "optimizer = tf.train.GradientDescentOptimizer(learning_rate).minimize(cost)\n",
    "\n",
    "# 初期化処理\n",
    "init = tf.global_variables_initializer()"
   ]
  },
  {
   "cell_type": "code",
   "execution_count": 7,
   "metadata": {
    "collapsed": false
   },
   "outputs": [
    {
     "name": "stdout",
     "output_type": "stream",
     "text": [
      " Epoch: 0001 cost= 1.184613279\n",
      "Epoch: 0002 cost= 0.665593972\n",
      "Epoch: 0003 cost= 0.552985257\n",
      "Epoch: 0004 cost= 0.498747743\n",
      "Epoch: 0005 cost= 0.465577089\n",
      "Epoch: 0006 cost= 0.442600355\n",
      "Epoch: 0007 cost= 0.425555942\n",
      "Epoch: 0008 cost= 0.412220765\n",
      "Epoch: 0009 cost= 0.401421221\n",
      "Epoch: 0010 cost= 0.392424187\n",
      "Epoch: 0011 cost= 0.384819142\n",
      "Epoch: 0012 cost= 0.378208576\n",
      "Epoch: 0013 cost= 0.372438823\n",
      "Epoch: 0014 cost= 0.367285530\n",
      "Epoch: 0015 cost= 0.362737082\n",
      "Epoch: 0016 cost= 0.358650007\n",
      "Epoch: 0017 cost= 0.354865540\n",
      "Epoch: 0018 cost= 0.351457643\n",
      "Epoch: 0019 cost= 0.348350120\n",
      "Epoch: 0020 cost= 0.345435582\n",
      "Epoch: 0021 cost= 0.342769604\n",
      "Epoch: 0022 cost= 0.340235459\n",
      "Epoch: 0023 cost= 0.337906533\n",
      "Epoch: 0024 cost= 0.335789684\n",
      "Epoch: 0025 cost= 0.333658791\n",
      "Optimization Finished\n",
      "Accuracy: 0.889\n"
     ]
    }
   ],
   "source": [
    "# 実行\n",
    "with tf.Session() as sess:\n",
    "    sess.run(init)\n",
    "    \n",
    "    for epoch in range(training_epochs):\n",
    "        avg_cost = 0\n",
    "        total_batch = int(mnist.train.num_examples/batch_size)\n",
    "        for i in range(total_batch):\n",
    "            batch_xs, batch_ys = mnist.train.next_batch(batch_size)\n",
    "            _, c = sess.run([optimizer, cost], feed_dict={x: batch_xs, y: batch_ys})\n",
    "            \n",
    "            avg_cost += c / total_batch\n",
    "        if (epoch+1) % display_step == 0:\n",
    "            print \"Epoch:\", \"%04d\" % (epoch+1), \"cost=\", \"{:.9f}\".format(avg_cost)\n",
    "        \n",
    "    print \"Optimization Finished\"\n",
    "    correct_prediction = tf.equal(tf.argmax(pred, 1), tf.argmax(y, 1))\n",
    "    accuracy = tf.reduce_mean(tf.cast(correct_prediction, tf.float32))\n",
    "    print \"Accuracy:\", accuracy.eval({x: mnist.test.images[:3000], y: mnist.test.labels[:3000]})"
   ]
  },
  {
   "cell_type": "code",
   "execution_count": null,
   "metadata": {
    "collapsed": true
   },
   "outputs": [],
   "source": []
  }
 ],
 "metadata": {
  "kernelspec": {
   "display_name": "Python 2",
   "language": "python",
   "name": "python2"
  },
  "language_info": {
   "codemirror_mode": {
    "name": "ipython",
    "version": 2
   },
   "file_extension": ".py",
   "mimetype": "text/x-python",
   "name": "python",
   "nbconvert_exporter": "python",
   "pygments_lexer": "ipython2",
   "version": "2.7.12"
  }
 },
 "nbformat": 4,
 "nbformat_minor": 1
}
