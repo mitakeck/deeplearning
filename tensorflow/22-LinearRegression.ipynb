{
 "cells": [
  {
   "cell_type": "code",
   "execution_count": 1,
   "metadata": {
    "collapsed": false
   },
   "outputs": [],
   "source": [
    "import tensorflow as tf\n",
    "import numpy as np\n",
    "import matplotlib.pyplot as plt\n",
    "import matplotlib\n",
    "\n",
    "rng = np.random\n",
    "\n",
    "%matplotlib inline\n",
    "# plt.style.use('ggplot') \n",
    "# font = {'family' : 'mplus-1c-regular'}\n",
    "# matplotlib.rc('font', **font)"
   ]
  },
  {
   "cell_type": "code",
   "execution_count": 2,
   "metadata": {
    "collapsed": true
   },
   "outputs": [],
   "source": [
    "# パラメタ\n",
    "learning_rate = 0.01\n",
    "training_epochs = 1000\n",
    "display_step = 50"
   ]
  },
  {
   "cell_type": "code",
   "execution_count": 3,
   "metadata": {
    "collapsed": false
   },
   "outputs": [],
   "source": [
    "# 学習データ\n",
    "train_X = np.asarray([3.3,4.4,5.5,6.71,6.93,4.168,9.779,6.182,7.59,2.167,\n",
    "                         7.042,10.791,5.313,7.997,5.654,9.27,3.1])\n",
    "train_Y = np.asarray([1.7,2.76,2.09,3.19,1.694,1.573,3.366,2.596,2.53,1.221,\n",
    "                         2.827,3.465,1.65,2.904,2.42,2.94,1.3])\n",
    "n_samples = train_X.shape[0]"
   ]
  },
  {
   "cell_type": "code",
   "execution_count": 4,
   "metadata": {
    "collapsed": true
   },
   "outputs": [],
   "source": [
    "X = tf.placeholder(\"float\")\n",
    "Y = tf.placeholder(\"float\")\n",
    "\n",
    "W = tf.Variable(rng.randn(), name=\"weigh\")\n",
    "b = tf.Variable(rng.randn(), name=\"bias\")"
   ]
  },
  {
   "cell_type": "code",
   "execution_count": 5,
   "metadata": {
    "collapsed": false
   },
   "outputs": [],
   "source": [
    "# リニアモデル\n",
    "pred = tf.add(tf.multiply(X, W), b)"
   ]
  },
  {
   "cell_type": "code",
   "execution_count": 6,
   "metadata": {
    "collapsed": false
   },
   "outputs": [],
   "source": [
    "# コスト関数: 二乗誤差\n",
    "cost = tf.reduce_sum(tf.pow(pred-Y, 2))/(2*n_samples)\n",
    "\n",
    "# オプティマイザ: 最急降下法\n",
    "optimizer = tf.train.GradientDescentOptimizer(learning_rate).minimize(cost)"
   ]
  },
  {
   "cell_type": "code",
   "execution_count": 7,
   "metadata": {
    "collapsed": true
   },
   "outputs": [],
   "source": [
    "# 初期化\n",
    "init = tf.global_variables_initializer()"
   ]
  },
  {
   "cell_type": "code",
   "execution_count": 8,
   "metadata": {
    "collapsed": false,
    "scrolled": false
   },
   "outputs": [
    {
     "name": "stdout",
     "output_type": "stream",
     "text": [
      "Epoch: 0050 cost= 0.100980960 W= 0.336325 b= 0.177529\n",
      "Epoch: 0100 cost= 0.098204955 W= 0.331166 b= 0.214637\n",
      "Epoch: 0150 cost= 0.095749773 W= 0.326315 b= 0.249539\n",
      "Epoch: 0200 cost= 0.093578383 W= 0.321752 b= 0.282364\n",
      "Epoch: 0250 cost= 0.091657899 W= 0.31746 b= 0.313238\n",
      "Epoch: 0300 cost= 0.089959487 W= 0.313424 b= 0.342275\n",
      "Epoch: 0350 cost= 0.088457435 W= 0.309628 b= 0.369585\n",
      "Epoch: 0400 cost= 0.087129004 W= 0.306057 b= 0.395271\n",
      "Epoch: 0450 cost= 0.085954234 W= 0.302699 b= 0.419429\n",
      "Epoch: 0500 cost= 0.084915318 W= 0.299541 b= 0.442151\n",
      "Epoch: 0550 cost= 0.083996557 W= 0.29657 b= 0.463521\n",
      "Epoch: 0600 cost= 0.083184049 W= 0.293776 b= 0.483621\n",
      "Epoch: 0650 cost= 0.082465589 W= 0.291148 b= 0.502525\n",
      "Epoch: 0700 cost= 0.081830241 W= 0.288677 b= 0.520304\n",
      "Epoch: 0750 cost= 0.081268430 W= 0.286352 b= 0.537027\n",
      "Epoch: 0800 cost= 0.080771655 W= 0.284166 b= 0.552755\n",
      "Epoch: 0850 cost= 0.080332376 W= 0.28211 b= 0.567548\n",
      "Epoch: 0900 cost= 0.079943992 W= 0.280176 b= 0.581461\n",
      "Epoch: 0950 cost= 0.079600558 W= 0.278357 b= 0.594547\n",
      "Epoch: 1000 cost= 0.079296932 W= 0.276646 b= 0.606854\n",
      "Optimization Finish\n",
      "Training cost= 0.0792969 W= 0.276646 b= 0.606854 \n",
      "\n"
     ]
    },
    {
     "data": {
      "image/png": "[encoded data removed]",
      "text/plain": [
       "<matplotlib.figure.Figure at 0x7f6bc00dec50>"
      ]
     },
     "metadata": {},
     "output_type": "display_data"
    }
   ],
   "source": [
    "# 実行\n",
    "with tf.Session() as sess:\n",
    "    sess.run(init)\n",
    "    \n",
    "    for epoch in range(training_epochs):\n",
    "        for (x, y) in zip(train_X, train_Y):\n",
    "            sess.run(optimizer, feed_dict={X: x, Y: y})\n",
    "        \n",
    "        if (epoch+1) % display_step == 0:\n",
    "            c = sess.run(cost, feed_dict={X: train_X, Y: train_Y})\n",
    "            print \"Epoch:\", '%04d' % (epoch+1), \\\n",
    "                \"cost=\", \"{:.9f}\".format(c), \\\n",
    "                \"W=\", sess.run(W), \"b=\", sess.run(b)\n",
    "    print \"Optimization Finish\"\n",
    "    training_cost = sess.run(cost, feed_dict={X: train_X, Y: train_Y})\n",
    "    print \"Training cost=\", training_cost, \\\n",
    "        \"W=\", sess.run(W), \"b=\", sess.run(b), \"\\n\"\n",
    "    \n",
    "    plt.plot(train_X, train_Y, \"ro\", label=\"Original data\")\n",
    "    plt.plot(train_X, sess.run(W) * train_X + sess.run(b), label=\"Fitted line\")\n",
    "    plt.legend()\n",
    "    plt.show()"
   ]
  },
  {
   "cell_type": "code",
   "execution_count": null,
   "metadata": {
    "collapsed": true
   },
   "outputs": [],
   "source": []
  }
 ],
 "metadata": {
  "kernelspec": {
   "display_name": "Python 2",
   "language": "python",
   "name": "python2"
  },
  "language_info": {
   "codemirror_mode": {
    "name": "ipython",
    "version": 2
   },
   "file_extension": ".py",
   "mimetype": "text/x-python",
   "name": "python",
   "nbconvert_exporter": "python",
   "pygments_lexer": "ipython2",
   "version": "2.7.12"
  }
 },
 "nbformat": 4,
 "nbformat_minor": 1
}
