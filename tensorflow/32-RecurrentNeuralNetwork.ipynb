{
 "cells": [
  {
   "cell_type": "code",
   "execution_count": 1,
   "metadata": {
    "collapsed": false
   },
   "outputs": [
    {
     "name": "stdout",
     "output_type": "stream",
     "text": [
      "Extracting MNIST_data/train-images-idx3-ubyte.gz\n",
      "Extracting MNIST_data/train-labels-idx1-ubyte.gz\n",
      "Extracting MNIST_data/t10k-images-idx3-ubyte.gz\n",
      "Extracting MNIST_data/t10k-labels-idx1-ubyte.gz\n"
     ]
    }
   ],
   "source": [
    "import tensorflow as tf\n",
    "from tensorflow.contrib import rnn\n",
    "import numpy as np\n",
    "\n",
    "from tensorflow.examples.tutorials.mnist import input_data\n",
    "mnist = input_data.read_data_sets(\"MNIST_data/\", one_hot=True)"
   ]
  },
  {
   "cell_type": "code",
   "execution_count": 2,
   "metadata": {
    "collapsed": true
   },
   "outputs": [],
   "source": [
    "# パラメタ\n",
    "learning_rate = 0.001\n",
    "training_iters = 100000\n",
    "batch_size = 128\n",
    "display_step = 10\n",
    "\n",
    "# ネットワークパラメタ\n",
    "n_input = 28\n",
    "n_steps = 28\n",
    "n_hidden = 128\n",
    "n_classes = 10\n",
    "\n",
    "x = tf.placeholder(\"float\", [None, n_steps, n_input])\n",
    "y = tf.placeholder(\"float\", [None, n_classes])\n",
    "\n",
    "weights = {\n",
    "    \"out\": tf.Variable(tf.random_normal([n_hidden, n_classes]))\n",
    "}\n",
    "biases = {\n",
    "    \"out\": tf.Variable(tf.random_normal([n_classes]))\n",
    "}"
   ]
  },
  {
   "cell_type": "code",
   "execution_count": 3,
   "metadata": {
    "collapsed": false,
    "scrolled": false
   },
   "outputs": [],
   "source": [
    "def RNN(x, weights, biases):\n",
    "    x = tf.transpose(x, [1, 0, 2])\n",
    "    x = tf.reshape(x, [-1, n_input])\n",
    "    x = tf.split(x, n_steps, 0)\n",
    "\n",
    "    lstm_cell = rnn.BasicLSTMCell(n_hidden, forget_bias=1.0)\n",
    "    outputs, states = rnn.static_rnn(lstm_cell, x, dtype=tf.float32)\n",
    "\n",
    "    return tf.matmul(outputs[-1], weights['out']) + biases['out']\n",
    "\n",
    "pred = RNN(x, weights, biases)\n",
    "\n",
    "cost = tf.reduce_mean(tf.nn.softmax_cross_entropy_with_logits(logits=pred, labels=y))\n",
    "optimizer = tf.train.AdamOptimizer(learning_rate=learning_rate).minimize(cost)\n",
    "\n",
    "correct_pred = tf.equal(tf.argmax(pred, 1), tf.argmax(y, 1))\n",
    "accuracy = tf.reduce_mean(tf.cast(correct_pred, tf.float32))\n",
    "\n",
    "init = tf.global_variables_initializer()"
   ]
  },
  {
   "cell_type": "code",
   "execution_count": 4,
   "metadata": {
    "collapsed": false
   },
   "outputs": [
    {
     "name": "stdout",
     "output_type": "stream",
     "text": [
      "Iter: 1280 Loss= 1.87096 Acc= 0.359375\n",
      "Iter: 2560 Loss= 1.63714 Acc= 0.476562\n",
      "Iter: 3840 Loss= 1.27163 Acc= 0.546875\n",
      "Iter: 5120 Loss= 1.07733 Acc= 0.65625\n",
      "Iter: 6400 Loss= 0.852438 Acc= 0.679688\n",
      "Iter: 7680 Loss= 1.10693 Acc= 0.617188\n",
      "Iter: 8960 Loss= 0.842882 Acc= 0.71875\n",
      "Iter: 10240 Loss= 0.604242 Acc= 0.8125\n",
      "Iter: 11520 Loss= 0.405936 Acc= 0.914062\n",
      "Iter: 12800 Loss= 0.71085 Acc= 0.765625\n",
      "Iter: 14080 Loss= 0.476718 Acc= 0.84375\n",
      "Iter: 15360 Loss= 0.340632 Acc= 0.90625\n",
      "Iter: 16640 Loss= 0.440785 Acc= 0.90625\n",
      "Iter: 17920 Loss= 0.354283 Acc= 0.882812\n",
      "Iter: 19200 Loss= 0.28498 Acc= 0.898438\n",
      "Iter: 20480 Loss= 0.169025 Acc= 0.953125\n",
      "Iter: 21760 Loss= 0.408473 Acc= 0.851562\n",
      "Iter: 23040 Loss= 0.190999 Acc= 0.929688\n",
      "Iter: 24320 Loss= 0.406992 Acc= 0.867188\n",
      "Iter: 25600 Loss= 0.402364 Acc= 0.882812\n",
      "Iter: 26880 Loss= 0.253933 Acc= 0.890625\n",
      "Iter: 28160 Loss= 0.279674 Acc= 0.898438\n",
      "Iter: 29440 Loss= 0.309937 Acc= 0.882812\n",
      "Iter: 30720 Loss= 0.323382 Acc= 0.875\n",
      "Iter: 32000 Loss= 0.221271 Acc= 0.929688\n",
      "Iter: 33280 Loss= 0.262858 Acc= 0.921875\n",
      "Iter: 34560 Loss= 0.318121 Acc= 0.882812\n",
      "Iter: 35840 Loss= 0.275408 Acc= 0.90625\n",
      "Iter: 37120 Loss= 0.369311 Acc= 0.898438\n",
      "Iter: 38400 Loss= 0.149789 Acc= 0.9375\n",
      "Iter: 39680 Loss= 0.212237 Acc= 0.929688\n",
      "Iter: 40960 Loss= 0.345588 Acc= 0.851562\n",
      "Iter: 42240 Loss= 0.227785 Acc= 0.945312\n",
      "Iter: 43520 Loss= 0.176524 Acc= 0.953125\n",
      "Iter: 44800 Loss= 0.173864 Acc= 0.929688\n",
      "Iter: 46080 Loss= 0.099806 Acc= 0.984375\n",
      "Iter: 47360 Loss= 0.267994 Acc= 0.914062\n",
      "Iter: 48640 Loss= 0.21092 Acc= 0.945312\n",
      "Iter: 49920 Loss= 0.272826 Acc= 0.90625\n",
      "Iter: 51200 Loss= 0.0932457 Acc= 0.953125\n",
      "Iter: 52480 Loss= 0.227752 Acc= 0.929688\n",
      "Iter: 53760 Loss= 0.0579106 Acc= 0.976562\n",
      "Iter: 55040 Loss= 0.172177 Acc= 0.9375\n",
      "Iter: 56320 Loss= 0.120944 Acc= 0.953125\n",
      "Iter: 57600 Loss= 0.16465 Acc= 0.945312\n",
      "Iter: 58880 Loss= 0.251763 Acc= 0.929688\n",
      "Iter: 60160 Loss= 0.118253 Acc= 0.96875\n",
      "Iter: 61440 Loss= 0.111992 Acc= 0.960938\n",
      "Iter: 62720 Loss= 0.109015 Acc= 0.960938\n",
      "Iter: 64000 Loss= 0.150248 Acc= 0.953125\n",
      "Iter: 65280 Loss= 0.137655 Acc= 0.945312\n",
      "Iter: 66560 Loss= 0.127907 Acc= 0.960938\n",
      "Iter: 67840 Loss= 0.123246 Acc= 0.960938\n",
      "Iter: 69120 Loss= 0.145678 Acc= 0.953125\n",
      "Iter: 70400 Loss= 0.185044 Acc= 0.929688\n",
      "Iter: 71680 Loss= 0.170668 Acc= 0.960938\n",
      "Iter: 72960 Loss= 0.139913 Acc= 0.953125\n",
      "Iter: 74240 Loss= 0.102778 Acc= 0.960938\n",
      "Iter: 75520 Loss= 0.132444 Acc= 0.953125\n",
      "Iter: 76800 Loss= 0.143554 Acc= 0.96875\n",
      "Iter: 78080 Loss= 0.135196 Acc= 0.960938\n",
      "Iter: 79360 Loss= 0.192872 Acc= 0.953125\n",
      "Iter: 80640 Loss= 0.0912058 Acc= 0.976562\n",
      "Iter: 81920 Loss= 0.148832 Acc= 0.945312\n",
      "Iter: 83200 Loss= 0.16705 Acc= 0.960938\n",
      "Iter: 84480 Loss= 0.127319 Acc= 0.945312\n",
      "Iter: 85760 Loss= 0.183633 Acc= 0.929688\n",
      "Iter: 87040 Loss= 0.214449 Acc= 0.921875\n",
      "Iter: 88320 Loss= 0.105371 Acc= 0.976562\n",
      "Iter: 89600 Loss= 0.0705281 Acc= 0.976562\n",
      "Iter: 90880 Loss= 0.142344 Acc= 0.96875\n",
      "Iter: 92160 Loss= 0.0332373 Acc= 0.992188\n",
      "Iter: 93440 Loss= 0.0514271 Acc= 0.992188\n",
      "Iter: 94720 Loss= 0.101966 Acc= 0.976562\n",
      "Iter: 96000 Loss= 0.107102 Acc= 0.953125\n",
      "Iter: 97280 Loss= 0.185085 Acc= 0.976562\n",
      "Iter: 98560 Loss= 0.045888 Acc= 0.992188\n",
      "Iter: 99840 Loss= 0.0717809 Acc= 0.976562\n",
      "Optimization Finish\n",
      "Acc: 0.953125\n"
     ]
    }
   ],
   "source": [
    "with tf.Session() as sess:\n",
    "    sess.run(init)\n",
    "    step = 1\n",
    "    while step * batch_size < training_iters:\n",
    "        batch_x, batch_y = mnist.train.next_batch(batch_size)\n",
    "        batch_x = batch_x.reshape((batch_size, n_steps, n_input))\n",
    "        sess.run(optimizer, feed_dict={x: batch_x, y: batch_y})\n",
    "        if step % display_step == 0:\n",
    "            acc = sess.run(accuracy, feed_dict={x: batch_x, y: batch_y})\n",
    "            loss = sess.run(cost, feed_dict={x: batch_x, y: batch_y})\n",
    "            print \"Iter:\", str(step*batch_size), \"Loss=\", loss, \"Acc=\", acc\n",
    "        step += 1\n",
    "    print \"Optimization Finish\"\n",
    "    \n",
    "    test_len = 128\n",
    "    test_data = mnist.test.images[:test_len].reshape((-1, n_steps, n_input))\n",
    "    test_label = mnist.test.labels[:test_len]\n",
    "    print \"Acc:\", sess.run(accuracy, feed_dict={x: test_data, y: test_label})"
   ]
  },
  {
   "cell_type": "code",
   "execution_count": null,
   "metadata": {
    "collapsed": true
   },
   "outputs": [],
   "source": []
  }
 ],
 "metadata": {
  "kernelspec": {
   "display_name": "Python 2",
   "language": "python",
   "name": "python2"
  },
  "language_info": {
   "codemirror_mode": {
    "name": "ipython",
    "version": 2
   },
   "file_extension": ".py",
   "mimetype": "text/x-python",
   "name": "python",
   "nbconvert_exporter": "python",
   "pygments_lexer": "ipython2",
   "version": "2.7.12"
  }
 },
 "nbformat": 4,
 "nbformat_minor": 1
}
