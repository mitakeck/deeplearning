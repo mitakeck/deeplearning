{
 "cells": [
  {
   "cell_type": "code",
   "execution_count": 1,
   "metadata": {
    "collapsed": false,
    "deletable": true,
    "editable": true
   },
   "outputs": [
    {
     "name": "stdout",
     "output_type": "stream",
     "text": [
      "Successfully downloaded train-images-idx3-ubyte.gz 9912422 bytes.\n",
      "Extracting MNIST_data/train-images-idx3-ubyte.gz\n",
      "Successfully downloaded train-labels-idx1-ubyte.gz 28881 bytes.\n",
      "Extracting MNIST_data/train-labels-idx1-ubyte.gz\n",
      "Successfully downloaded t10k-images-idx3-ubyte.gz 1648877 bytes.\n",
      "Extracting MNIST_data/t10k-images-idx3-ubyte.gz\n",
      "Successfully downloaded t10k-labels-idx1-ubyte.gz 4542 bytes.\n",
      "Extracting MNIST_data/t10k-labels-idx1-ubyte.gz\n"
     ]
    }
   ],
   "source": [
    "import tensorflow as tf\n",
    "from tensorflow.contrib import rnn\n",
    "import numpy as np\n",
    "\n",
    "from tensorflow.examples.tutorials.mnist import input_data\n",
    "mnist = input_data.read_data_sets(\"MNIST_data/\", one_hot=True)"
   ]
  },
  {
   "cell_type": "code",
   "execution_count": 2,
   "metadata": {
    "collapsed": true,
    "deletable": true,
    "editable": true
   },
   "outputs": [],
   "source": [
    "# パラメタ\n",
    "learning_rate = 0.001\n",
    "training_iters = 100000\n",
    "batch_size = 128\n",
    "display_step = 10\n",
    "\n",
    "# ネットワークパラメタ\n",
    "n_input = 28\n",
    "n_steps = 28\n",
    "n_hidden = 128\n",
    "n_classes = 10\n",
    "\n",
    "x = tf.placeholder(\"float\", [None, n_steps, n_input])\n",
    "y = tf.placeholder(\"float\", [None, n_classes])\n",
    "\n",
    "weights = {\n",
    "    \"out\": tf.Variable(tf.random_normal([n_hidden, n_classes]))\n",
    "}\n",
    "biases = {\n",
    "    \"out\": tf.Variable(tf.random_normal([n_classes]))\n",
    "}"
   ]
  },
  {
   "cell_type": "code",
   "execution_count": 3,
   "metadata": {
    "collapsed": false,
    "deletable": true,
    "editable": true,
    "scrolled": false
   },
   "outputs": [],
   "source": [
    "def RNN(x, weights, biases):\n",
    "    x = tf.transpose(x, [1, 0, 2])\n",
    "    x = tf.reshape(x, [-1, n_input])\n",
    "    x = tf.split(x, n_steps, 0)\n",
    "\n",
    "    lstm_cell = rnn.BasicLSTMCell(n_hidden, forget_bias=1.0)\n",
    "    outputs, states = rnn.static_rnn(lstm_cell, x, dtype=tf.float32)\n",
    "\n",
    "    return tf.matmul(outputs[-1], weights['out']) + biases['out']\n",
    "\n",
    "pred = RNN(x, weights, biases)\n",
    "\n",
    "cost = tf.reduce_mean(tf.nn.softmax_cross_entropy_with_logits(logits=pred, labels=y))\n",
    "optimizer = tf.train.AdamOptimizer(learning_rate=learning_rate).minimize(cost)\n",
    "\n",
    "correct_pred = tf.equal(tf.argmax(pred, 1), tf.argmax(y, 1))\n",
    "accuracy = tf.reduce_mean(tf.cast(correct_pred, tf.float32))\n",
    "\n",
    "init = tf.global_variables_initializer()"
   ]
  },
  {
   "cell_type": "code",
   "execution_count": 4,
   "metadata": {
    "collapsed": false,
    "deletable": true,
    "editable": true
   },
   "outputs": [
    {
     "name": "stdout",
     "output_type": "stream",
     "text": [
      "Iter: 1280 Loss= 1.96663 Acc= 0.289062\n",
      "Iter: 2560 Loss= 1.74654 Acc= 0.429688\n",
      "Iter: 3840 Loss= 1.38901 Acc= 0.523438\n",
      "Iter: 5120 Loss= 1.11363 Acc= 0.59375\n",
      "Iter: 6400 Loss= 0.957638 Acc= 0.65625\n",
      "Iter: 7680 Loss= 1.21766 Acc= 0.570312\n",
      "Iter: 8960 Loss= 1.02599 Acc= 0.648438\n",
      "Iter: 10240 Loss= 0.836213 Acc= 0.773438\n",
      "Iter: 11520 Loss= 0.613814 Acc= 0.804688\n",
      "Iter: 12800 Loss= 0.87022 Acc= 0.671875\n",
      "Iter: 14080 Loss= 0.726113 Acc= 0.773438\n",
      "Iter: 15360 Loss= 0.437053 Acc= 0.835938\n",
      "Iter: 16640 Loss= 0.556305 Acc= 0.859375\n",
      "Iter: 17920 Loss= 0.337103 Acc= 0.890625\n",
      "Iter: 19200 Loss= 0.358026 Acc= 0.882812\n",
      "Iter: 20480 Loss= 0.238466 Acc= 0.945312\n",
      "Iter: 21760 Loss= 0.507527 Acc= 0.828125\n",
      "Iter: 23040 Loss= 0.214801 Acc= 0.921875\n",
      "Iter: 24320 Loss= 0.451977 Acc= 0.835938\n",
      "Iter: 25600 Loss= 0.42834 Acc= 0.882812\n",
      "Iter: 26880 Loss= 0.257396 Acc= 0.914062\n",
      "Iter: 28160 Loss= 0.315402 Acc= 0.90625\n",
      "Iter: 29440 Loss= 0.37045 Acc= 0.890625\n",
      "Iter: 30720 Loss= 0.355233 Acc= 0.867188\n",
      "Iter: 32000 Loss= 0.221848 Acc= 0.921875\n",
      "Iter: 33280 Loss= 0.271664 Acc= 0.929688\n",
      "Iter: 34560 Loss= 0.234859 Acc= 0.960938\n",
      "Iter: 35840 Loss= 0.201365 Acc= 0.9375\n",
      "Iter: 37120 Loss= 0.312091 Acc= 0.898438\n",
      "Iter: 38400 Loss= 0.143424 Acc= 0.953125\n",
      "Iter: 39680 Loss= 0.158922 Acc= 0.953125\n",
      "Iter: 40960 Loss= 0.378076 Acc= 0.859375\n",
      "Iter: 42240 Loss= 0.117654 Acc= 0.976562\n",
      "Iter: 43520 Loss= 0.182948 Acc= 0.945312\n",
      "Iter: 44800 Loss= 0.263433 Acc= 0.921875\n",
      "Iter: 46080 Loss= 0.128606 Acc= 0.960938\n",
      "Iter: 47360 Loss= 0.269893 Acc= 0.914062\n",
      "Iter: 48640 Loss= 0.289889 Acc= 0.90625\n",
      "Iter: 49920 Loss= 0.224408 Acc= 0.914062\n",
      "Iter: 51200 Loss= 0.0850762 Acc= 0.960938\n",
      "Iter: 52480 Loss= 0.207228 Acc= 0.945312\n",
      "Iter: 53760 Loss= 0.0390952 Acc= 0.992188\n",
      "Iter: 55040 Loss= 0.161337 Acc= 0.9375\n",
      "Iter: 56320 Loss= 0.107977 Acc= 0.960938\n",
      "Iter: 57600 Loss= 0.177065 Acc= 0.9375\n",
      "Iter: 58880 Loss= 0.151673 Acc= 0.945312\n",
      "Iter: 60160 Loss= 0.118074 Acc= 0.953125\n",
      "Iter: 61440 Loss= 0.0888277 Acc= 0.960938\n",
      "Iter: 62720 Loss= 0.277996 Acc= 0.914062\n",
      "Iter: 64000 Loss= 0.326614 Acc= 0.882812\n",
      "Iter: 65280 Loss= 0.200479 Acc= 0.945312\n",
      "Iter: 66560 Loss= 0.231367 Acc= 0.929688\n",
      "Iter: 67840 Loss= 0.102386 Acc= 0.960938\n",
      "Iter: 69120 Loss= 0.131643 Acc= 0.953125\n",
      "Iter: 70400 Loss= 0.136372 Acc= 0.960938\n",
      "Iter: 71680 Loss= 0.0880916 Acc= 0.960938\n",
      "Iter: 72960 Loss= 0.138177 Acc= 0.953125\n",
      "Iter: 74240 Loss= 0.0821938 Acc= 0.976562\n",
      "Iter: 75520 Loss= 0.093943 Acc= 0.976562\n",
      "Iter: 76800 Loss= 0.141028 Acc= 0.960938\n",
      "Iter: 78080 Loss= 0.11528 Acc= 0.96875\n",
      "Iter: 79360 Loss= 0.16509 Acc= 0.9375\n",
      "Iter: 80640 Loss= 0.0965309 Acc= 0.976562\n",
      "Iter: 81920 Loss= 0.267911 Acc= 0.9375\n",
      "Iter: 83200 Loss= 0.215946 Acc= 0.921875\n",
      "Iter: 84480 Loss= 0.0973762 Acc= 0.960938\n",
      "Iter: 85760 Loss= 0.0770824 Acc= 0.96875\n",
      "Iter: 87040 Loss= 0.0828182 Acc= 0.96875\n",
      "Iter: 88320 Loss= 0.129727 Acc= 0.9375\n",
      "Iter: 89600 Loss= 0.0314243 Acc= 0.992188\n",
      "Iter: 90880 Loss= 0.11091 Acc= 0.953125\n",
      "Iter: 92160 Loss= 0.0837919 Acc= 0.976562\n",
      "Iter: 93440 Loss= 0.0971834 Acc= 0.976562\n",
      "Iter: 94720 Loss= 0.0914547 Acc= 0.96875\n",
      "Iter: 96000 Loss= 0.159492 Acc= 0.960938\n",
      "Iter: 97280 Loss= 0.0993769 Acc= 0.976562\n",
      "Iter: 98560 Loss= 0.277198 Acc= 0.929688\n",
      "Iter: 99840 Loss= 0.130651 Acc= 0.9375\n",
      "Optimization Finish\n",
      "Acc: 0.960938\n"
     ]
    }
   ],
   "source": [
    "with tf.Session() as sess:\n",
    "    sess.run(init)\n",
    "    step = 1\n",
    "    while step * batch_size < training_iters:\n",
    "        batch_x, batch_y = mnist.train.next_batch(batch_size)\n",
    "        batch_x = batch_x.reshape((batch_size, n_steps, n_input))\n",
    "        sess.run(optimizer, feed_dict={x: batch_x, y: batch_y})\n",
    "        if step % display_step == 0:\n",
    "            acc = sess.run(accuracy, feed_dict={x: batch_x, y: batch_y})\n",
    "            loss = sess.run(cost, feed_dict={x: batch_x, y: batch_y})\n",
    "            print \"Iter:\", str(step*batch_size), \"Loss=\", loss, \"Acc=\", acc\n",
    "        step += 1\n",
    "    print \"Optimization Finish\"\n",
    "    \n",
    "    test_len = 128\n",
    "    test_data = mnist.test.images[:test_len].reshape((-1, n_steps, n_input))\n",
    "    test_label = mnist.test.labels[:test_len]\n",
    "    print \"Acc:\", sess.run(accuracy, feed_dict={x: test_data, y: test_label})"
   ]
  },
  {
   "cell_type": "code",
   "execution_count": null,
   "metadata": {
    "collapsed": true,
    "deletable": true,
    "editable": true
   },
   "outputs": [],
   "source": []
  }
 ],
 "metadata": {
  "kernelspec": {
   "display_name": "Python 2",
   "language": "python",
   "name": "python2"
  },
  "language_info": {
   "codemirror_mode": {
    "name": "ipython",
    "version": 2
   },
   "file_extension": ".py",
   "mimetype": "text/x-python",
   "name": "python",
   "nbconvert_exporter": "python",
   "pygments_lexer": "ipython2",
   "version": "2.7.13"
  }
 },
 "nbformat": 4,
 "nbformat_minor": 1
}
