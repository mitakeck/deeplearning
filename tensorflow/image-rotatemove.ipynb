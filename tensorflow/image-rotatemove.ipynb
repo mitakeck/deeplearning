{
 "cells": [
  {
   "cell_type": "code",
   "execution_count": 12,
   "metadata": {
    "collapsed": true,
    "deletable": true,
    "editable": true
   },
   "outputs": [],
   "source": [
    "import tensorflow as tf\n",
    "import cv2\n",
    "import os\n",
    "import numpy as np\n",
    "import random"
   ]
  },
  {
   "cell_type": "code",
   "execution_count": 39,
   "metadata": {
    "collapsed": false,
    "deletable": true,
    "editable": true,
    "scrolled": true
   },
   "outputs": [
    {
     "name": "stdout",
     "output_type": "stream",
     "text": [
      "futura\n",
      "gillsans\n",
      "helvetica\n",
      "opitma\n",
      "andalemono\n",
      "arial\n",
      "impact\n",
      "timenewroman\n",
      "trebuchetms\n",
      "verdana\n"
     ]
    }
   ],
   "source": [
    "fonts = [\"futura\", \"gillsans\", \"helvetica\", \"opitma\", \"andalemono\", \"arial\", \"impact\", \"timenewroman\", \"trebuchetms\", \"verdana\"]\n",
    "imgSize = 64\n",
    "\n",
    "for font in fonts:\n",
    "    print font\n",
    "    pathToDataset = \"font_data64/data-org/\" + font + \"/\"\n",
    "    pathToDatasetSave = \"font_data64/data/\" + font + \"/\"\n",
    "    imgs = os.listdir(pathToDataset)\n",
    "    make(imgs, pathToDataset, pathToDatasetSave, n=1000)"
   ]
  },
  {
   "cell_type": "code",
   "execution_count": 24,
   "metadata": {
    "collapsed": false,
    "deletable": true,
    "editable": true
   },
   "outputs": [],
   "source": [
    "def rotate(src):\n",
    "    rows,cols = src.shape\n",
    "    r = random.uniform(0, 360)\n",
    "    M = cv2.getRotationMatrix2D((cols/2,rows/2), r, 1)\n",
    "\n",
    "    return cv2.warpAffine(src, M, (rows, cols), flags=cv2.INTER_LINEAR)\n",
    "\n",
    "def move(src):\n",
    "    rows,cols = src.shape\n",
    "    dx = random.uniform(0, 5)\n",
    "    dy = random.uniform(0, 5)\n",
    "    M = np.float32([[1, 0, dx],[0, 1, dy]])\n",
    "    \n",
    "    return cv2.warpAffine(src,M,(cols,rows))"
   ]
  },
  {
   "cell_type": "code",
   "execution_count": 38,
   "metadata": {
    "collapsed": false,
    "deletable": true,
    "editable": true,
    "scrolled": false
   },
   "outputs": [],
   "source": [
    "def make(imgs, pathToDataset, pathToDatasetSaved, n=100):\n",
    "    for img in imgs:\n",
    "        if img.find(\".png\") > -1 :\n",
    "            src = cv2.imread(pathToDataset + img, 0)\n",
    "            src = cv2.resize(src, (imgSize, imgSize))\n",
    "            src = cv2.bitwise_not(src)\n",
    "            prefix = img.split(\".\")[0]\n",
    "            for x in xrange(1, n):\n",
    "                dst = move(rotate(move(rotate(src))))\n",
    "                cv2.imwrite(pathToDatasetSaved + prefix + \"-\" + \"{0:04d}\".format(x) + \".png\", dst)"
   ]
  },
  {
   "cell_type": "markdown",
   "metadata": {
    "collapsed": true,
    "deletable": true,
    "editable": true
   },
   "source": [
    "# convert で文字画像生成\n",
    "\n",
    "```bash\n",
    "$ convert -background white -fill black -size 32x32 -gravity center -font [font] label:[label] [output]\n",
    "```\n",
    "\n",
    "## 各種準備ファイル\n",
    "\n",
    "```\n",
    "mitake@mitake-mba ~/study-ml/datasets ±master⚡ » cat fonts.txt \n",
    "futura,/Library/Fonts/Futura.ttc\n",
    "gillsans,/Library/Fonts/GillSans.ttc\n",
    "helvetica,/System/Library/Fonts/HelveticaNeueDeskInterface.ttc\n",
    "opitma,/System/Library/Fonts/Optima.ttc\n",
    "andalemono,/Library/Fonts/Andale Mono.ttf\n",
    "arial,/Library/Fonts/Arial.ttf\n",
    "impact,/Library/Fonts/Impact.ttf\n",
    "timenewroman,/Library/Fonts/Times New Roman.ttf\n",
    "trebuchetms,/Library/Fonts/Trebuchet MS.ttf\n",
    "verdana,/Library/Fonts/Verdana.ttf\n",
    "\n",
    "mitake@mitake-mba ~/study-ml/datasets ±master⚡ » cat data.txt \n",
    "a\n",
    "b\n",
    "c\n",
    "d\n",
    "e\n",
    "f\n",
    "g\n",
    "h\n",
    "i\n",
    "j\n",
    "k\n",
    "l\n",
    "m\n",
    "n\n",
    "o\n",
    "p\n",
    "q\n",
    "r\n",
    "s\n",
    "t\n",
    "u\n",
    "v\n",
    "w\n",
    "x\n",
    "y\n",
    "z\n",
    "```\n",
    "\n",
    "## 学習データ用の画像を一括生成\n",
    "\n",
    "```\n",
    " join -j `cat fonts.txt | wc -l` -t, fonts.txt data.txt | awk -F, '{print \"convert -background white -fill black -size 32x32 -gravity center -font \\\"\" $3 \"\\\" label:\" $4 \" out/\" $2 \"-\" $4 \".jpg\"}' | sh\n",
    "```\n",
    "\n",
    "```\n",
    " join -j `cat fonts.txt | wc -l` -t, fonts.txt data.txt | awk -F, '{print \"convert -background white -fill black -size 64x64 -gravity center -font \\\"\" $3 \"\\\" label:\" $4 \" out/\" $2 \"/\" $4 \".png\"}' | sh\n",
    "```"
   ]
  },
  {
   "cell_type": "code",
   "execution_count": null,
   "metadata": {
    "collapsed": true
   },
   "outputs": [],
   "source": []
  }
 ],
 "metadata": {
  "kernelspec": {
   "display_name": "Python 2",
   "language": "python",
   "name": "python2"
  },
  "language_info": {
   "codemirror_mode": {
    "name": "ipython",
    "version": 2
   },
   "file_extension": ".py",
   "mimetype": "text/x-python",
   "name": "python",
   "nbconvert_exporter": "python",
   "pygments_lexer": "ipython2",
   "version": "2.7.12"
  }
 },
 "nbformat": 4,
 "nbformat_minor": 2
}
