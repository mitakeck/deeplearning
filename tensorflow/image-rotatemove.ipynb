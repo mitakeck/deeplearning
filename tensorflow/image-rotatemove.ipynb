{
 "cells": [
  {
   "cell_type": "code",
   "execution_count": 3,
   "metadata": {
    "collapsed": true,
    "deletable": true,
    "editable": true
   },
   "outputs": [],
   "source": [
    "import tensorflow as tf\n",
    "import cv2\n",
    "import os\n",
    "import numpy as np\n",
    "import random"
   ]
  },
  {
   "cell_type": "code",
   "execution_count": 4,
   "metadata": {
    "collapsed": false,
    "deletable": true,
    "editable": true
   },
   "outputs": [
    {
     "data": {
      "text/plain": [
       "0.6645889373116789"
      ]
     },
     "execution_count": 4,
     "metadata": {},
     "output_type": "execute_result"
    }
   ],
   "source": [
    "pathToDataset = \"../datasets/out/\"\n",
    "imgs = os.listdir(pathToDataset)\n",
    "\n",
    "random.random()"
   ]
  },
  {
   "cell_type": "code",
   "execution_count": 5,
   "metadata": {
    "collapsed": false,
    "deletable": true,
    "editable": true
   },
   "outputs": [],
   "source": [
    "def rotate(src):\n",
    "    rows,cols = src.shape\n",
    "    r = random.uniform(0, 360)\n",
    "    M = cv2.getRotationMatrix2D((cols/2,rows/2), r, 1)\n",
    "\n",
    "    return cv2.warpAffine(src, M, (rows, cols), flags=cv2.INTER_LINEAR)\n",
    "\n",
    "def move(src):\n",
    "    rows,cols = src.shape\n",
    "    dx = random.uniform(0, 5)\n",
    "    dy = random.uniform(0, 5)\n",
    "    M = np.float32([[1, 0, dx],[0, 1, dy]])\n",
    "    \n",
    "    return cv2.warpAffine(src,M,(cols,rows))"
   ]
  },
  {
   "cell_type": "code",
   "execution_count": 9,
   "metadata": {
    "collapsed": false,
    "deletable": true,
    "editable": true,
    "scrolled": false
   },
   "outputs": [],
   "source": [
    "for img in imgs:\n",
    "    if img.find(\".jpg\") > -1 :\n",
    "        src = cv2.imread(pathToDataset + img, 0)\n",
    "        src = cv2.resize(src, (32, 32))\n",
    "        src = cv2.bitwise_not(src)\n",
    "        for x in xrange(1, 100):\n",
    "            dst = move(rotate(move(rotate(src))))\n",
    "            cv2.imwrite(pathToDataset + img + \".\" + str(x) + \".jpg\", dst)"
   ]
  },
  {
   "cell_type": "code",
   "execution_count": null,
   "metadata": {
    "collapsed": true,
    "deletable": true,
    "editable": true
   },
   "outputs": [],
   "source": []
  }
 ],
 "metadata": {
  "kernelspec": {
   "display_name": "Python 2",
   "language": "python",
   "name": "python2"
  },
  "language_info": {
   "codemirror_mode": {
    "name": "ipython",
    "version": 2
   },
   "file_extension": ".py",
   "mimetype": "text/x-python",
   "name": "python",
   "nbconvert_exporter": "python",
   "pygments_lexer": "ipython2",
   "version": "2.7.13"
  }
 },
 "nbformat": 4,
 "nbformat_minor": 2
}
