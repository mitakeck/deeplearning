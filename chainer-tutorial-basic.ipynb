{
 "cells": [
  {
   "cell_type": "code",
   "execution_count": 1,
   "metadata": {
    "collapsed": true
   },
   "outputs": [],
   "source": [
    "import numpy as np\n",
    "import chainer\n",
    "from chainer import cuda, Function, gradient_check, report, training, utils, Variable\n",
    "from chainer import datasets, iterators, optimizers, serializers\n",
    "from chainer import Link, Chain, ChainList\n",
    "import chainer.functions as F\n",
    "import chainer.links as L\n",
    "from chainer.training import extensions"
   ]
  },
  {
   "cell_type": "markdown",
   "metadata": {},
   "source": [
    "## Forward/Backward Computation"
   ]
  },
  {
   "cell_type": "code",
   "execution_count": 2,
   "metadata": {
    "collapsed": true
   },
   "outputs": [],
   "source": [
    "x_data = np.array([5], dtype=np.float32)\n",
    "x = Variable(x_data)"
   ]
  },
  {
   "cell_type": "markdown",
   "metadata": {},
   "source": [
    "$ y = x^2 − 2x + 1$"
   ]
  },
  {
   "cell_type": "code",
   "execution_count": 3,
   "metadata": {
    "collapsed": true
   },
   "outputs": [],
   "source": [
    "y = x**2 - 2 * x + 1"
   ]
  },
  {
   "cell_type": "code",
   "execution_count": 4,
   "metadata": {
    "collapsed": false
   },
   "outputs": [
    {
     "data": {
      "text/plain": [
       "array([ 16.], dtype=float32)"
      ]
     },
     "execution_count": 4,
     "metadata": {},
     "output_type": "execute_result"
    }
   ],
   "source": [
    "y.data"
   ]
  },
  {
   "cell_type": "code",
   "execution_count": 5,
   "metadata": {
    "collapsed": true
   },
   "outputs": [],
   "source": [
    "y.backward()"
   ]
  },
  {
   "cell_type": "code",
   "execution_count": 6,
   "metadata": {
    "collapsed": false
   },
   "outputs": [
    {
     "data": {
      "text/plain": [
       "array([ 8.], dtype=float32)"
      ]
     },
     "execution_count": 6,
     "metadata": {},
     "output_type": "execute_result"
    }
   ],
   "source": [
    "x.grad"
   ]
  },
  {
   "cell_type": "code",
   "execution_count": 7,
   "metadata": {
    "collapsed": false
   },
   "outputs": [
    {
     "data": {
      "text/plain": [
       "array([-1.], dtype=float32)"
      ]
     },
     "execution_count": 7,
     "metadata": {},
     "output_type": "execute_result"
    }
   ],
   "source": [
    "z = 2*x\n",
    "y = x**2 - z + 1\n",
    "y.backward(retain_grad=True)\n",
    "z.grad"
   ]
  },
  {
   "cell_type": "code",
   "execution_count": 8,
   "metadata": {
    "collapsed": false
   },
   "outputs": [
    {
     "data": {
      "text/plain": [
       "array([[  0.,   2.,   4.],\n",
       "       [  6.,   8.,  10.]], dtype=float32)"
      ]
     },
     "execution_count": 8,
     "metadata": {},
     "output_type": "execute_result"
    }
   ],
   "source": [
    "x = Variable(np.array([[1, 2, 3], [4, 5, 6]], dtype=np.float32))\n",
    "y = x**2 - 2*x + 1\n",
    "y.grad = np.ones((2, 3), dtype=np.float32)\n",
    "y.backward()\n",
    "x.grad"
   ]
  },
  {
   "cell_type": "markdown",
   "metadata": {},
   "source": [
    "## Links"
   ]
  },
  {
   "cell_type": "code",
   "execution_count": 9,
   "metadata": {
    "collapsed": true
   },
   "outputs": [],
   "source": [
    "f = L.Linear(3, 2)"
   ]
  },
  {
   "cell_type": "code",
   "execution_count": 10,
   "metadata": {
    "collapsed": false
   },
   "outputs": [
    {
     "data": {
      "text/plain": [
       "array([[ 0.52264684,  0.67524409,  0.11907497],\n",
       "       [-0.51267999, -0.01781754, -0.15565582]], dtype=float32)"
      ]
     },
     "execution_count": 10,
     "metadata": {},
     "output_type": "execute_result"
    }
   ],
   "source": [
    "f.W.data"
   ]
  },
  {
   "cell_type": "code",
   "execution_count": 11,
   "metadata": {
    "collapsed": false
   },
   "outputs": [
    {
     "data": {
      "text/plain": [
       "array([ 0.,  0.], dtype=float32)"
      ]
     },
     "execution_count": 11,
     "metadata": {},
     "output_type": "execute_result"
    }
   ],
   "source": [
    "f.b.data"
   ]
  },
  {
   "cell_type": "code",
   "execution_count": 12,
   "metadata": {
    "collapsed": false
   },
   "outputs": [
    {
     "data": {
      "text/plain": [
       "array([[ 2.23036003, -1.01528251],\n",
       "       [ 6.18125772, -3.07374263]], dtype=float32)"
      ]
     },
     "execution_count": 12,
     "metadata": {},
     "output_type": "execute_result"
    }
   ],
   "source": [
    "x = Variable(np.array([[1, 2, 3], [4, 5, 6]], dtype=np.float32))\n",
    "y = f(x)\n",
    "y.data"
   ]
  },
  {
   "cell_type": "code",
   "execution_count": 13,
   "metadata": {
    "collapsed": true
   },
   "outputs": [],
   "source": [
    "f.cleargrads()"
   ]
  },
  {
   "cell_type": "code",
   "execution_count": 14,
   "metadata": {
    "collapsed": false
   },
   "outputs": [
    {
     "data": {
      "text/plain": [
       "array([[ 5.,  7.,  9.],\n",
       "       [ 5.,  7.,  9.]], dtype=float32)"
      ]
     },
     "execution_count": 14,
     "metadata": {},
     "output_type": "execute_result"
    }
   ],
   "source": [
    "y.grad = np.ones((2, 2), dtype=np.float32)\n",
    "y.backward()\n",
    "f.W.grad"
   ]
  },
  {
   "cell_type": "code",
   "execution_count": 15,
   "metadata": {
    "collapsed": false
   },
   "outputs": [
    {
     "data": {
      "text/plain": [
       "array([ 2.,  2.], dtype=float32)"
      ]
     },
     "execution_count": 15,
     "metadata": {},
     "output_type": "execute_result"
    }
   ],
   "source": [
    "f.b.grad"
   ]
  },
  {
   "cell_type": "markdown",
   "metadata": {},
   "source": [
    "## Write a model as a chain"
   ]
  },
  {
   "cell_type": "code",
   "execution_count": 16,
   "metadata": {
    "collapsed": true
   },
   "outputs": [],
   "source": [
    "l1 = L.Linear(4, 3)\n",
    "l2 = L.Linear(3, 2)\n",
    "def my_forward(x):\n",
    "    h = l1(x)\n",
    "    return l2(h)"
   ]
  },
  {
   "cell_type": "code",
   "execution_count": 17,
   "metadata": {
    "collapsed": true
   },
   "outputs": [],
   "source": [
    "class MyProc(object):\n",
    "    def __init__(self):\n",
    "        self.l1 = L.Linear(4, 3)\n",
    "        self.l2 = L.Linear(3, 2)\n",
    "    \n",
    "    def forward(self, x):\n",
    "        h = self.l1(x)\n",
    "        return self.l2(h)"
   ]
  },
  {
   "cell_type": "code",
   "execution_count": 18,
   "metadata": {
    "collapsed": false
   },
   "outputs": [],
   "source": [
    "class MyChain(Chain):\n",
    "    def __init__(self):\n",
    "        super(MyChain, self).__init__(\n",
    "            l1 = L.Linear(4, 3),\n",
    "            l2 = L.Linear(3, 3),\n",
    "        )\n",
    "    \n",
    "    def __call__(self, x):\n",
    "        h = self.l1(x)\n",
    "        return self.l2(h)"
   ]
  },
  {
   "cell_type": "code",
   "execution_count": 19,
   "metadata": {
    "collapsed": true
   },
   "outputs": [],
   "source": [
    "class MyChain2(ChainList):\n",
    "    def __init__(self):\n",
    "        super(MyChain2, self).__init__(\n",
    "            L.Linear(4, 3),\n",
    "            L.Linear(3, 2),\n",
    "        )\n",
    "    \n",
    "    def __call__(self, x):\n",
    "        h = self[0](x)\n",
    "        return self[1](h)"
   ]
  },
  {
   "cell_type": "markdown",
   "metadata": {},
   "source": [
    "## Optimizer"
   ]
  },
  {
   "cell_type": "code",
   "execution_count": 20,
   "metadata": {
    "collapsed": true
   },
   "outputs": [],
   "source": [
    "model = MyChain()\n",
    "optimizer = optimizers.SGD()\n",
    "optimizer.use_cleargrads()\n",
    "optimizer.setup(model)"
   ]
  },
  {
   "cell_type": "code",
   "execution_count": 21,
   "metadata": {
    "collapsed": false
   },
   "outputs": [],
   "source": [
    "optimizer.add_hook(chainer.optimizer.WeightDecay(0.0005))"
   ]
  },
  {
   "cell_type": "code",
   "execution_count": 22,
   "metadata": {
    "collapsed": true
   },
   "outputs": [],
   "source": [
    "x = np.random.uniform(-1, 1, (2, 4)).astype('f')\n",
    "model.cleargrads()\n",
    "loss = F.sum(model(chainer.Variable(x)))\n",
    "loss.backward()\n",
    "optimizer.update()"
   ]
  },
  {
   "cell_type": "code",
   "execution_count": 23,
   "metadata": {
    "collapsed": false
   },
   "outputs": [],
   "source": [
    "def lossfun(arg1, arg2):\n",
    "    loss = F.sum(model(arg1 - arg2))\n",
    "    return loss"
   ]
  },
  {
   "cell_type": "code",
   "execution_count": 24,
   "metadata": {
    "collapsed": false
   },
   "outputs": [],
   "source": [
    "arg1 = np.random.uniform(-1, 1, (2, 4)).astype('f')\n",
    "arg2 = np.random.uniform(-1, 1, (2, 4)).astype('f')\n",
    "optimizer.update(lossfun, chainer.Variable(arg1), chainer.Variable(arg2))"
   ]
  },
  {
   "cell_type": "markdown",
   "metadata": {},
   "source": [
    "## ex) multi-layer perceptron on MNIST"
   ]
  },
  {
   "cell_type": "code",
   "execution_count": 25,
   "metadata": {
    "collapsed": false
   },
   "outputs": [],
   "source": [
    "train, test = datasets.get_mnist()"
   ]
  },
  {
   "cell_type": "code",
   "execution_count": 26,
   "metadata": {
    "collapsed": true
   },
   "outputs": [],
   "source": [
    "train_iter = iterators.SerialIterator(train, batch_size=100, shuffle=True)"
   ]
  },
  {
   "cell_type": "code",
   "execution_count": 27,
   "metadata": {
    "collapsed": true
   },
   "outputs": [],
   "source": [
    "test_iter = iterators.SerialIterator(test, batch_size=100, repeat=False, shuffle=False)"
   ]
  },
  {
   "cell_type": "code",
   "execution_count": 28,
   "metadata": {
    "collapsed": true
   },
   "outputs": [],
   "source": [
    "class MLP(Chain):\n",
    "    def __init__(self, n_units, n_out):\n",
    "        super(MLP, self).__init__(\n",
    "            l1 = L.Linear(None, n_units),\n",
    "            l2 = L.Linear(None, n_units),\n",
    "            l3 = L.Linear(None, n_out),\n",
    "        )\n",
    "    \n",
    "    def __call__(self, x):\n",
    "        h1 = F.relu(self.l1(x))\n",
    "        h2 = F.relu(self.l2(h1))\n",
    "        y = self.l3(h2)\n",
    "        return y"
   ]
  },
  {
   "cell_type": "code",
   "execution_count": 29,
   "metadata": {
    "collapsed": true
   },
   "outputs": [],
   "source": [
    "class Classifier(Chain):\n",
    "    def __init__(self, predictor):\n",
    "        super(Classifier, self).__init__(predictor=predictor)\n",
    "    \n",
    "    def __call__(self, x, t):\n",
    "        y = self.predictor(x)\n",
    "        loss = F.softmax_cross_entropy(y, t)\n",
    "        accuracy = F.accuracy(y, t)\n",
    "        report({'loss': loss, 'accuracy': accuracy}, self)\n",
    "        return loss"
   ]
  },
  {
   "cell_type": "code",
   "execution_count": 30,
   "metadata": {
    "collapsed": false
   },
   "outputs": [],
   "source": [
    "model = L.Classifier(MLP(100, 10))\n",
    "optimizer = optimizers.SGD()\n",
    "optimizer.setup(model)"
   ]
  },
  {
   "cell_type": "code",
   "execution_count": 31,
   "metadata": {
    "collapsed": true
   },
   "outputs": [],
   "source": [
    "updater = training.StandardUpdater(train_iter, optimizer)\n",
    "trainer = training.Trainer(updater, (20, 'epoch'), out='result')"
   ]
  },
  {
   "cell_type": "code",
   "execution_count": 32,
   "metadata": {
    "collapsed": true
   },
   "outputs": [],
   "source": [
    "trainer.extend(extensions.Evaluator(test_iter, model))"
   ]
  },
  {
   "cell_type": "code",
   "execution_count": 33,
   "metadata": {
    "collapsed": true
   },
   "outputs": [],
   "source": [
    "trainer.extend(extensions.LogReport())"
   ]
  },
  {
   "cell_type": "code",
   "execution_count": 34,
   "metadata": {
    "collapsed": false
   },
   "outputs": [],
   "source": [
    "trainer.extend(extensions.PrintReport(['epoch', 'main/accuracy', 'validation/main/accuracy']))"
   ]
  },
  {
   "cell_type": "code",
   "execution_count": 35,
   "metadata": {
    "collapsed": false,
    "scrolled": false
   },
   "outputs": [
    {
     "name": "stdout",
     "output_type": "stream",
     "text": [
      "epoch       main/accuracy  validation/main/accuracy\n",
      "\u001b[J     total [..................................................]  0.83%\n",
      "this epoch [########..........................................] 16.67%\n",
      "       100 iter, 0 epoch / 20 epochs\n",
      "       inf iters/sec. Estimated time to finish: 0:00:00.\n",
      "\u001b[4A\u001b[J     total [..................................................]  1.67%\n",
      "this epoch [################..................................] 33.33%\n",
      "       200 iter, 0 epoch / 20 epochs\n",
      "     193.7 iters/sec. Estimated time to finish: 0:01:00.918669.\n",
      "\u001b[4A\u001b[J     total [#.................................................]  2.50%\n",
      "this epoch [#########################.........................] 50.00%\n",
      "       300 iter, 0 epoch / 20 epochs\n",
      "    195.29 iters/sec. Estimated time to finish: 0:00:59.911137.\n",
      "\u001b[4A\u001b[J     total [#.................................................]  3.33%\n",
      "this epoch [#################################.................] 66.67%\n",
      "       400 iter, 0 epoch / 20 epochs\n",
      "    194.83 iters/sec. Estimated time to finish: 0:00:59.539474.\n",
      "\u001b[4A\u001b[J     total [##................................................]  4.17%\n",
      "this epoch [#########################################.........] 83.33%\n",
      "       500 iter, 0 epoch / 20 epochs\n",
      "    194.95 iters/sec. Estimated time to finish: 0:00:58.989621.\n",
      "\u001b[4A\u001b[J1           0.692333       0.8601                    \n",
      "\u001b[J     total [##................................................]  5.00%\n",
      "this epoch [..................................................]  0.00%\n",
      "       600 iter, 1 epoch / 20 epochs\n",
      "    174.22 iters/sec. Estimated time to finish: 0:01:05.432899.\n",
      "\u001b[4A\u001b[J     total [##................................................]  5.83%\n",
      "this epoch [########..........................................] 16.67%\n",
      "       700 iter, 1 epoch / 20 epochs\n",
      "    177.62 iters/sec. Estimated time to finish: 0:01:03.620074.\n",
      "\u001b[4A\u001b[J     total [###...............................................]  6.67%\n",
      "this epoch [################..................................] 33.33%\n",
      "       800 iter, 1 epoch / 20 epochs\n",
      "    179.79 iters/sec. Estimated time to finish: 0:01:02.296207.\n",
      "\u001b[4A\u001b[J     total [###...............................................]  7.50%\n",
      "this epoch [#########################.........................] 50.00%\n",
      "       900 iter, 1 epoch / 20 epochs\n",
      "    181.59 iters/sec. Estimated time to finish: 0:01:01.126186.\n",
      "\u001b[4A\u001b[J     total [####..............................................]  8.33%\n",
      "this epoch [#################################.................] 66.67%\n",
      "      1000 iter, 1 epoch / 20 epochs\n",
      "    182.83 iters/sec. Estimated time to finish: 0:01:00.164744.\n",
      "\u001b[4A\u001b[J     total [####..............................................]  9.17%\n",
      "this epoch [#########################################.........] 83.33%\n",
      "      1100 iter, 1 epoch / 20 epochs\n",
      "    183.92 iters/sec. Estimated time to finish: 0:00:59.265751.\n",
      "\u001b[4A\u001b[J2           0.872983       0.892                     \n",
      "\u001b[J     total [#####.............................................] 10.00%\n",
      "this epoch [..................................................]  0.00%\n",
      "      1200 iter, 2 epoch / 20 epochs\n",
      "    175.94 iters/sec. Estimated time to finish: 0:01:01.384077.\n",
      "\u001b[4A\u001b[J     total [#####.............................................] 10.83%\n",
      "this epoch [########..........................................] 16.67%\n",
      "      1300 iter, 2 epoch / 20 epochs\n",
      "    177.27 iters/sec. Estimated time to finish: 0:01:00.359849.\n",
      "\u001b[4A\u001b[J     total [#####.............................................] 11.67%\n",
      "this epoch [################..................................] 33.33%\n",
      "      1400 iter, 2 epoch / 20 epochs\n",
      "     178.6 iters/sec. Estimated time to finish: 0:00:59.351308.\n",
      "\u001b[4A\u001b[J     total [######............................................] 12.50%\n",
      "this epoch [#########################.........................] 50.00%\n",
      "      1500 iter, 2 epoch / 20 epochs\n",
      "    179.68 iters/sec. Estimated time to finish: 0:00:58.436331.\n",
      "\u001b[4A\u001b[J     total [######............................................] 13.33%\n",
      "this epoch [#################################.................] 66.67%\n",
      "      1600 iter, 2 epoch / 20 epochs\n",
      "    180.62 iters/sec. Estimated time to finish: 0:00:57.578886.\n",
      "\u001b[4A\u001b[J     total [#######...........................................] 14.17%\n",
      "this epoch [#########################################.........] 83.33%\n",
      "      1700 iter, 2 epoch / 20 epochs\n",
      "    181.31 iters/sec. Estimated time to finish: 0:00:56.809946.\n",
      "\u001b[4A\u001b[J3           0.893867       0.9045                    \n",
      "\u001b[J     total [#######...........................................] 15.00%\n",
      "this epoch [..................................................]  0.00%\n",
      "      1800 iter, 3 epoch / 20 epochs\n",
      "    176.37 iters/sec. Estimated time to finish: 0:00:57.834234.\n",
      "\u001b[4A\u001b[J     total [#######...........................................] 15.83%\n",
      "this epoch [########..........................................] 16.67%\n",
      "      1900 iter, 3 epoch / 20 epochs\n",
      "     177.3 iters/sec. Estimated time to finish: 0:00:56.966334.\n",
      "\u001b[4A\u001b[J     total [########..........................................] 16.67%\n",
      "this epoch [################..................................] 33.33%\n",
      "      2000 iter, 3 epoch / 20 epochs\n",
      "    178.19 iters/sec. Estimated time to finish: 0:00:56.119200.\n",
      "\u001b[4A\u001b[J     total [########..........................................] 17.50%\n",
      "this epoch [#########################.........................] 50.00%\n",
      "      2100 iter, 3 epoch / 20 epochs\n",
      "    178.95 iters/sec. Estimated time to finish: 0:00:55.324199.\n",
      "\u001b[4A\u001b[J     total [#########.........................................] 18.33%\n",
      "this epoch [#################################.................] 66.67%\n",
      "      2200 iter, 3 epoch / 20 epochs\n",
      "    179.55 iters/sec. Estimated time to finish: 0:00:54.580988.\n",
      "\u001b[4A\u001b[J     total [#########.........................................] 19.17%\n",
      "this epoch [#########################################.........] 83.33%\n",
      "      2300 iter, 3 epoch / 20 epochs\n",
      "    180.14 iters/sec. Estimated time to finish: 0:00:53.846070.\n",
      "\u001b[4A\u001b[J4           0.9045         0.9096                    \n",
      "\u001b[J     total [##########........................................] 20.00%\n",
      "this epoch [..................................................]  0.00%\n",
      "      2400 iter, 4 epoch / 20 epochs\n",
      "    176.51 iters/sec. Estimated time to finish: 0:00:54.387356.\n",
      "\u001b[4A\u001b[J     total [##########........................................] 20.83%\n",
      "this epoch [########..........................................] 16.67%\n",
      "      2500 iter, 4 epoch / 20 epochs\n",
      "    177.13 iters/sec. Estimated time to finish: 0:00:53.633188.\n",
      "\u001b[4A\u001b[J     total [##########........................................] 21.67%\n",
      "this epoch [################..................................] 33.33%\n",
      "      2600 iter, 4 epoch / 20 epochs\n",
      "    177.73 iters/sec. Estimated time to finish: 0:00:52.888205.\n",
      "\u001b[4A\u001b[J     total [###########.......................................] 22.50%\n",
      "this epoch [#########################.........................] 50.00%\n",
      "      2700 iter, 4 epoch / 20 epochs\n",
      "    178.33 iters/sec. Estimated time to finish: 0:00:52.149427.\n",
      "\u001b[4A\u001b[J     total [###########.......................................] 23.33%\n",
      "this epoch [#################################.................] 66.67%\n",
      "      2800 iter, 4 epoch / 20 epochs\n",
      "     178.8 iters/sec. Estimated time to finish: 0:00:51.454213.\n",
      "\u001b[4A\u001b[J     total [############......................................] 24.17%\n",
      "this epoch [#########################################.........] 83.33%\n",
      "      2900 iter, 4 epoch / 20 epochs\n",
      "    179.27 iters/sec. Estimated time to finish: 0:00:50.762003.\n",
      "\u001b[4A\u001b[J5           0.9111         0.9186                    \n",
      "\u001b[J     total [############......................................] 25.00%\n",
      "this epoch [..................................................]  0.00%\n",
      "      3000 iter, 5 epoch / 20 epochs\n",
      "    176.38 iters/sec. Estimated time to finish: 0:00:51.027231.\n",
      "\u001b[4A\u001b[J     total [############......................................] 25.83%\n",
      "this epoch [########..........................................] 16.67%\n",
      "      3100 iter, 5 epoch / 20 epochs\n",
      "    176.86 iters/sec. Estimated time to finish: 0:00:50.323006.\n",
      "\u001b[4A\u001b[J     total [#############.....................................] 26.67%\n",
      "this epoch [################..................................] 33.33%\n",
      "      3200 iter, 5 epoch / 20 epochs\n",
      "    177.34 iters/sec. Estimated time to finish: 0:00:49.623336.\n",
      "\u001b[4A\u001b[J     total [#############.....................................] 27.50%\n",
      "this epoch [#########################.........................] 50.00%\n",
      "      3300 iter, 5 epoch / 20 epochs\n",
      "    177.77 iters/sec. Estimated time to finish: 0:00:48.940099.\n",
      "\u001b[4A\u001b[J     total [##############....................................] 28.33%\n",
      "this epoch [#################################.................] 66.67%\n",
      "      3400 iter, 5 epoch / 20 epochs\n",
      "    178.18 iters/sec. Estimated time to finish: 0:00:48.265235.\n",
      "\u001b[4A\u001b[J     total [##############....................................] 29.17%\n",
      "this epoch [#########################################.........] 83.33%\n",
      "      3500 iter, 5 epoch / 20 epochs\n",
      "    178.57 iters/sec. Estimated time to finish: 0:00:47.601215.\n",
      "\u001b[4A\u001b[J6           0.915967       0.9204                    \n",
      "\u001b[J     total [###############...................................] 30.00%\n",
      "this epoch [..................................................]  0.00%\n",
      "      3600 iter, 6 epoch / 20 epochs\n",
      "    176.15 iters/sec. Estimated time to finish: 0:00:47.687157.\n",
      "\u001b[4A\u001b[J     total [###############...................................] 30.83%\n",
      "this epoch [########..........................................] 16.67%\n",
      "      3700 iter, 6 epoch / 20 epochs\n",
      "    176.58 iters/sec. Estimated time to finish: 0:00:47.003833.\n",
      "\u001b[4A\u001b[J     total [###############...................................] 31.67%\n",
      "this epoch [################..................................] 33.33%\n",
      "      3800 iter, 6 epoch / 20 epochs\n",
      "    176.96 iters/sec. Estimated time to finish: 0:00:46.338586.\n",
      "\u001b[4A\u001b[J     total [################..................................] 32.50%\n",
      "this epoch [#########################.........................] 50.00%\n",
      "      3900 iter, 6 epoch / 20 epochs\n",
      "    177.31 iters/sec. Estimated time to finish: 0:00:45.683211.\n",
      "\u001b[4A\u001b[J     total [################..................................] 33.33%\n",
      "this epoch [#################################.................] 66.67%\n",
      "      4000 iter, 6 epoch / 20 epochs\n",
      "     177.6 iters/sec. Estimated time to finish: 0:00:45.044104.\n",
      "\u001b[4A\u001b[J     total [#################.................................] 34.17%\n",
      "this epoch [#########################################.........] 83.33%\n",
      "      4100 iter, 6 epoch / 20 epochs\n",
      "    177.89 iters/sec. Estimated time to finish: 0:00:44.408525.\n",
      "\u001b[4A\u001b[J7           0.920867       0.9267                    \n",
      "\u001b[J     total [#################.................................] 35.00%\n",
      "this epoch [..................................................]  0.00%\n",
      "      4200 iter, 7 epoch / 20 epochs\n",
      "    175.89 iters/sec. Estimated time to finish: 0:00:44.346559.\n",
      "\u001b[4A\u001b[J     total [#################.................................] 35.83%\n",
      "this epoch [########..........................................] 16.67%\n",
      "      4300 iter, 7 epoch / 20 epochs\n",
      "    168.46 iters/sec. Estimated time to finish: 0:00:45.707013.\n",
      "\u001b[4A\u001b[J     total [##################................................] 36.67%\n",
      "this epoch [################..................................] 33.33%\n",
      "      4400 iter, 7 epoch / 20 epochs\n",
      "    168.79 iters/sec. Estimated time to finish: 0:00:45.026702.\n",
      "\u001b[4A\u001b[J     total [##################................................] 37.50%\n",
      "this epoch [#########################.........................] 50.00%\n",
      "      4500 iter, 7 epoch / 20 epochs\n",
      "    169.26 iters/sec. Estimated time to finish: 0:00:44.311145.\n",
      "\u001b[4A\u001b[J     total [###################...............................] 38.33%\n",
      "this epoch [#################################.................] 66.67%\n",
      "      4600 iter, 7 epoch / 20 epochs\n",
      "    169.71 iters/sec. Estimated time to finish: 0:00:43.603612.\n",
      "\u001b[4A\u001b[J     total [###################...............................] 39.17%\n",
      "this epoch [#########################################.........] 83.33%\n",
      "      4700 iter, 7 epoch / 20 epochs\n",
      "    170.14 iters/sec. Estimated time to finish: 0:00:42.906313.\n",
      "\u001b[4A\u001b[J8           0.9248         0.9312                    \n",
      "\u001b[J     total [####################..............................] 40.00%\n",
      "this epoch [..................................................]  0.00%\n",
      "      4800 iter, 8 epoch / 20 epochs\n",
      "    167.63 iters/sec. Estimated time to finish: 0:00:42.951390.\n",
      "\u001b[4A\u001b[J     total [####################..............................] 40.83%\n",
      "this epoch [########..........................................] 16.67%\n",
      "      4900 iter, 8 epoch / 20 epochs\n",
      "    162.72 iters/sec. Estimated time to finish: 0:00:43.634511.\n",
      "\u001b[4A\u001b[J     total [####################..............................] 41.67%\n",
      "this epoch [################..................................] 33.33%\n",
      "      5000 iter, 8 epoch / 20 epochs\n",
      "    163.19 iters/sec. Estimated time to finish: 0:00:42.894687.\n",
      "\u001b[4A\u001b[J     total [#####################.............................] 42.50%\n",
      "this epoch [#########################.........................] 50.00%\n",
      "      5100 iter, 8 epoch / 20 epochs\n",
      "    163.69 iters/sec. Estimated time to finish: 0:00:42.151925.\n",
      "\u001b[4A\u001b[J     total [#####################.............................] 43.33%\n",
      "this epoch [#################################.................] 66.67%\n",
      "      5200 iter, 8 epoch / 20 epochs\n",
      "     160.2 iters/sec. Estimated time to finish: 0:00:42.445644.\n",
      "\u001b[4A\u001b[J     total [######################............................] 44.17%\n",
      "this epoch [#########################################.........] 83.33%\n",
      "      5300 iter, 8 epoch / 20 epochs\n",
      "    159.08 iters/sec. Estimated time to finish: 0:00:42.117388.\n",
      "\u001b[4A\u001b[J9           0.928767       0.9316                    \n",
      "\u001b[J     total [######################............................] 45.00%\n",
      "this epoch [..................................................]  0.00%\n",
      "      5400 iter, 9 epoch / 20 epochs\n",
      "    158.14 iters/sec. Estimated time to finish: 0:00:41.735712.\n",
      "\u001b[4A\u001b[J     total [######################............................] 45.83%\n",
      "this epoch [########..........................................] 16.67%\n",
      "      5500 iter, 9 epoch / 20 epochs\n",
      "    154.94 iters/sec. Estimated time to finish: 0:00:41.950663.\n",
      "\u001b[4A\u001b[J     total [#######################...........................] 46.67%\n",
      "this epoch [################..................................] 33.33%\n",
      "      5600 iter, 9 epoch / 20 epochs\n",
      "    154.24 iters/sec. Estimated time to finish: 0:00:41.494876.\n",
      "\u001b[4A\u001b[J     total [#######################...........................] 47.50%\n",
      "this epoch [#########################.........................] 50.00%\n",
      "      5700 iter, 9 epoch / 20 epochs\n",
      "    154.77 iters/sec. Estimated time to finish: 0:00:40.704886.\n",
      "\u001b[4A\u001b[J     total [########################..........................] 48.33%\n",
      "this epoch [#################################.................] 66.67%\n",
      "      5800 iter, 9 epoch / 20 epochs\n",
      "    154.82 iters/sec. Estimated time to finish: 0:00:40.047059.\n",
      "\u001b[4A\u001b[J     total [########################..........................] 49.17%\n",
      "this epoch [#########################################.........] 83.33%\n",
      "      5900 iter, 9 epoch / 20 epochs\n",
      "    151.32 iters/sec. Estimated time to finish: 0:00:40.311667.\n",
      "\u001b[4A\u001b[J10          0.931517       0.935                     \n",
      "\u001b[J     total [#########################.........................] 50.00%\n",
      "this epoch [..................................................]  0.00%\n",
      "      6000 iter, 10 epoch / 20 epochs\n",
      "    150.67 iters/sec. Estimated time to finish: 0:00:39.821000.\n",
      "\u001b[4A\u001b[J     total [#########################.........................] 50.83%\n",
      "this epoch [########..........................................] 16.67%\n",
      "      6100 iter, 10 epoch / 20 epochs\n",
      "    150.46 iters/sec. Estimated time to finish: 0:00:39.214094.\n",
      "\u001b[4A\u001b[J     total [#########################.........................] 51.67%\n",
      "this epoch [################..................................] 33.33%\n",
      "      6200 iter, 10 epoch / 20 epochs\n",
      "    147.68 iters/sec. Estimated time to finish: 0:00:39.275040.\n",
      "\u001b[4A\u001b[J     total [##########################........................] 52.50%\n",
      "this epoch [#########################.........................] 50.00%\n",
      "      6300 iter, 10 epoch / 20 epochs\n",
      "    148.24 iters/sec. Estimated time to finish: 0:00:38.450651.\n",
      "\u001b[4A\u001b[J     total [##########################........................] 53.33%\n",
      "this epoch [#################################.................] 66.67%\n",
      "      6400 iter, 10 epoch / 20 epochs\n",
      "    148.77 iters/sec. Estimated time to finish: 0:00:37.642881.\n",
      "\u001b[4A\u001b[J     total [###########################.......................] 54.17%\n",
      "this epoch [#########################################.........] 83.33%\n",
      "      6500 iter, 10 epoch / 20 epochs\n",
      "     146.7 iters/sec. Estimated time to finish: 0:00:37.491409.\n",
      "\u001b[4A\u001b[J11          0.9349         0.9368                    \n",
      "\u001b[J     total [###########################.......................] 55.00%\n",
      "this epoch [..................................................]  0.00%\n",
      "      6600 iter, 11 epoch / 20 epochs\n",
      "    145.09 iters/sec. Estimated time to finish: 0:00:37.217106.\n",
      "\u001b[4A\u001b[J     total [###########################.......................] 55.83%\n",
      "this epoch [########..........................................] 16.67%\n",
      "      6700 iter, 11 epoch / 20 epochs\n",
      "    145.64 iters/sec. Estimated time to finish: 0:00:36.391582.\n",
      "\u001b[4A\u001b[J     total [############################......................] 56.67%\n",
      "this epoch [################..................................] 33.33%\n",
      "      6800 iter, 11 epoch / 20 epochs\n",
      "    143.61 iters/sec. Estimated time to finish: 0:00:36.208861.\n",
      "\u001b[4A\u001b[J     total [############################......................] 57.50%\n",
      "this epoch [#########################.........................] 50.00%\n",
      "      6900 iter, 11 epoch / 20 epochs\n",
      "    143.27 iters/sec. Estimated time to finish: 0:00:35.597155.\n",
      "\u001b[4A\u001b[J     total [#############################.....................] 58.33%\n",
      "this epoch [#################################.................] 66.67%\n",
      "      7000 iter, 11 epoch / 20 epochs\n",
      "    143.79 iters/sec. Estimated time to finish: 0:00:34.773401.\n",
      "\u001b[4A\u001b[J     total [#############################.....................] 59.17%\n",
      "this epoch [#########################################.........] 83.33%\n",
      "      7100 iter, 11 epoch / 20 epochs\n",
      "    143.98 iters/sec. Estimated time to finish: 0:00:34.031325.\n",
      "\u001b[4A\u001b[J12          0.938017       0.9394                    \n",
      "\u001b[J     total [##############################....................] 60.00%\n",
      "this epoch [..................................................]  0.00%\n",
      "      7200 iter, 12 epoch / 20 epochs\n",
      "    140.76 iters/sec. Estimated time to finish: 0:00:34.100855.\n",
      "\u001b[4A\u001b[J     total [##############################....................] 60.83%\n",
      "this epoch [########..........................................] 16.67%\n",
      "      7300 iter, 12 epoch / 20 epochs\n",
      "    141.28 iters/sec. Estimated time to finish: 0:00:33.267355.\n",
      "\u001b[4A\u001b[J     total [##############################....................] 61.67%\n",
      "this epoch [################..................................] 33.33%\n",
      "      7400 iter, 12 epoch / 20 epochs\n",
      "    141.29 iters/sec. Estimated time to finish: 0:00:32.556491.\n",
      "\u001b[4A\u001b[J     total [###############################...................] 62.50%\n",
      "this epoch [#########################.........................] 50.00%\n",
      "      7500 iter, 12 epoch / 20 epochs\n",
      "    139.31 iters/sec. Estimated time to finish: 0:00:32.302059.\n",
      "\u001b[4A\u001b[J     total [###############################...................] 63.33%\n",
      "this epoch [#################################.................] 66.67%\n",
      "      7600 iter, 12 epoch / 20 epochs\n",
      "    139.83 iters/sec. Estimated time to finish: 0:00:31.467619.\n",
      "\u001b[4A\u001b[J     total [################################..................] 64.17%\n",
      "this epoch [#########################################.........] 83.33%\n",
      "      7700 iter, 12 epoch / 20 epochs\n",
      "    140.32 iters/sec. Estimated time to finish: 0:00:30.643334.\n",
      "\u001b[4A\u001b[J13          0.9401         0.941                     \n",
      "\u001b[J     total [################################..................] 65.00%\n",
      "this epoch [..................................................]  0.00%\n",
      "      7800 iter, 13 epoch / 20 epochs\n",
      "    137.26 iters/sec. Estimated time to finish: 0:00:30.599158.\n",
      "\u001b[4A\u001b[J     total [################################..................] 65.83%\n",
      "this epoch [########..........................................] 16.67%\n",
      "      7900 iter, 13 epoch / 20 epochs\n",
      "    137.76 iters/sec. Estimated time to finish: 0:00:29.761542.\n",
      "\u001b[4A\u001b[J     total [#################################.................] 66.67%\n",
      "this epoch [################..................................] 33.33%\n",
      "      8000 iter, 13 epoch / 20 epochs\n",
      "    138.26 iters/sec. Estimated time to finish: 0:00:28.932007.\n",
      "\u001b[4A\u001b[J     total [#################################.................] 67.50%\n",
      "this epoch [#########################.........................] 50.00%\n",
      "      8100 iter, 13 epoch / 20 epochs\n",
      "    136.71 iters/sec. Estimated time to finish: 0:00:28.528135.\n",
      "\u001b[4A\u001b[J     total [##################################................] 68.33%\n",
      "this epoch [#################################.................] 66.67%\n",
      "      8200 iter, 13 epoch / 20 epochs\n",
      "    136.62 iters/sec. Estimated time to finish: 0:00:27.813466.\n",
      "\u001b[4A\u001b[J     total [##################################................] 69.17%\n",
      "this epoch [#########################################.........] 83.33%\n",
      "      8300 iter, 13 epoch / 20 epochs\n",
      "    137.08 iters/sec. Estimated time to finish: 0:00:26.991198.\n",
      "\u001b[4A\u001b[J14          0.942167       0.9426                    \n",
      "\u001b[J     total [###################################...............] 70.00%\n",
      "this epoch [..................................................]  0.00%\n",
      "      8400 iter, 14 epoch / 20 epochs\n",
      "    134.71 iters/sec. Estimated time to finish: 0:00:26.723636.\n",
      "\u001b[4A\u001b[J     total [###################################...............] 70.83%\n",
      "this epoch [########..........................................] 16.67%\n",
      "      8500 iter, 14 epoch / 20 epochs\n",
      "    134.88 iters/sec. Estimated time to finish: 0:00:25.948378.\n",
      "\u001b[4A\u001b[J     total [###################################...............] 71.67%\n",
      "this epoch [################..................................] 33.33%\n",
      "      8600 iter, 14 epoch / 20 epochs\n",
      "    135.36 iters/sec. Estimated time to finish: 0:00:25.118260.\n",
      "\u001b[4A\u001b[J     total [####################################..............] 72.50%\n",
      "this epoch [#########################.........................] 50.00%\n",
      "      8700 iter, 14 epoch / 20 epochs\n",
      "    135.27 iters/sec. Estimated time to finish: 0:00:24.395418.\n",
      "\u001b[4A\u001b[J     total [####################################..............] 73.33%\n",
      "this epoch [#################################.................] 66.67%\n",
      "      8800 iter, 14 epoch / 20 epochs\n",
      "    133.96 iters/sec. Estimated time to finish: 0:00:23.888466.\n",
      "\u001b[4A\u001b[J     total [#####################################.............] 74.17%\n",
      "this epoch [#########################################.........] 83.33%\n",
      "      8900 iter, 14 epoch / 20 epochs\n",
      "    134.42 iters/sec. Estimated time to finish: 0:00:23.061810.\n",
      "\u001b[4A\u001b[J15          0.9446         0.9443                    \n",
      "\u001b[J     total [#####################################.............] 75.00%\n",
      "this epoch [..................................................]  0.00%\n",
      "      9000 iter, 15 epoch / 20 epochs\n",
      "    133.61 iters/sec. Estimated time to finish: 0:00:22.452757.\n",
      "\u001b[4A\u001b[J     total [#####################################.............] 75.83%\n",
      "this epoch [########..........................................] 16.67%\n",
      "      9100 iter, 15 epoch / 20 epochs\n",
      "    132.51 iters/sec. Estimated time to finish: 0:00:21.884658.\n",
      "\u001b[4A\u001b[J     total [######################################............] 76.67%\n",
      "this epoch [################..................................] 33.33%\n",
      "      9200 iter, 15 epoch / 20 epochs\n",
      "    132.96 iters/sec. Estimated time to finish: 0:00:21.059608.\n",
      "\u001b[4A\u001b[J     total [######################################............] 77.50%\n",
      "this epoch [#########################.........................] 50.00%\n",
      "      9300 iter, 15 epoch / 20 epochs\n",
      "     133.4 iters/sec. Estimated time to finish: 0:00:20.239828.\n",
      "\u001b[4A\u001b[J     total [#######################################...........] 78.33%\n",
      "this epoch [#################################.................] 66.67%\n",
      "      9400 iter, 15 epoch / 20 epochs\n",
      "    132.08 iters/sec. Estimated time to finish: 0:00:19.684445.\n",
      "\u001b[4A\u001b[J     total [#######################################...........] 79.17%\n",
      "this epoch [#########################################.........] 83.33%\n",
      "      9500 iter, 15 epoch / 20 epochs\n",
      "    132.18 iters/sec. Estimated time to finish: 0:00:18.913536.\n",
      "\u001b[4A\u001b[J16          0.946317       0.9462                    \n",
      "\u001b[J     total [########################################..........] 80.00%\n",
      "this epoch [..................................................]  0.00%\n",
      "      9600 iter, 16 epoch / 20 epochs\n",
      "    132.05 iters/sec. Estimated time to finish: 0:00:18.175512.\n",
      "\u001b[4A\u001b[J     total [########################################..........] 80.83%\n",
      "this epoch [########..........................................] 16.67%\n",
      "      9700 iter, 16 epoch / 20 epochs\n",
      "    130.72 iters/sec. Estimated time to finish: 0:00:17.594841.\n",
      "\u001b[4A\u001b[J     total [########################################..........] 81.67%\n",
      "this epoch [################..................................] 33.33%\n",
      "      9800 iter, 16 epoch / 20 epochs\n",
      "    130.93 iters/sec. Estimated time to finish: 0:00:16.803179.\n",
      "\u001b[4A\u001b[J     total [#########################################.........] 82.50%\n",
      "this epoch [#########################.........................] 50.00%\n",
      "      9900 iter, 16 epoch / 20 epochs\n",
      "    131.35 iters/sec. Estimated time to finish: 0:00:15.987597.\n",
      "\u001b[4A\u001b[J     total [#########################################.........] 83.33%\n",
      "this epoch [#################################.................] 66.67%\n",
      "     10000 iter, 16 epoch / 20 epochs\n",
      "    131.26 iters/sec. Estimated time to finish: 0:00:15.237116.\n",
      "\u001b[4A\u001b[J     total [##########################################........] 84.17%\n",
      "this epoch [#########################################.........] 83.33%\n",
      "     10100 iter, 16 epoch / 20 epochs\n",
      "    130.28 iters/sec. Estimated time to finish: 0:00:14.584404.\n",
      "\u001b[4A\u001b[J17          0.948017       0.9459                    \n",
      "\u001b[J     total [##########################################........] 85.00%\n",
      "this epoch [..................................................]  0.00%\n",
      "     10200 iter, 17 epoch / 20 epochs\n",
      "    129.75 iters/sec. Estimated time to finish: 0:00:13.872931.\n",
      "\u001b[4A\u001b[J     total [##########################################........] 85.83%\n",
      "this epoch [########..........................................] 16.67%\n",
      "     10300 iter, 17 epoch / 20 epochs\n",
      "    129.14 iters/sec. Estimated time to finish: 0:00:13.163666.\n",
      "\u001b[4A\u001b[J     total [###########################################.......] 86.67%\n",
      "this epoch [################..................................] 33.33%\n",
      "     10400 iter, 17 epoch / 20 epochs\n",
      "    127.88 iters/sec. Estimated time to finish: 0:00:12.511276.\n",
      "\u001b[4A\u001b[J     total [###########################################.......] 87.50%\n",
      "this epoch [#########################.........................] 50.00%\n",
      "     10500 iter, 17 epoch / 20 epochs\n",
      "    127.86 iters/sec. Estimated time to finish: 0:00:11.731737.\n",
      "\u001b[4A\u001b[J     total [############################################......] 88.33%\n",
      "this epoch [#################################.................] 66.67%\n",
      "     10600 iter, 17 epoch / 20 epochs\n",
      "    128.34 iters/sec. Estimated time to finish: 0:00:10.908670.\n",
      "\u001b[4A\u001b[J     total [############################################......] 89.17%\n",
      "this epoch [#########################################.........] 83.33%\n",
      "     10700 iter, 17 epoch / 20 epochs\n",
      "    126.76 iters/sec. Estimated time to finish: 0:00:10.255625.\n",
      "\u001b[4A\u001b[J18          0.949983       0.9473                    \n",
      "\u001b[J     total [#############################################.....] 90.00%\n",
      "this epoch [..................................................]  0.00%\n",
      "     10800 iter, 18 epoch / 20 epochs\n",
      "    126.03 iters/sec. Estimated time to finish: 0:00:09.521686.\n",
      "\u001b[4A\u001b[J     total [#############################################.....] 90.83%\n",
      "this epoch [########..........................................] 16.67%\n",
      "     10900 iter, 18 epoch / 20 epochs\n",
      "    126.02 iters/sec. Estimated time to finish: 0:00:08.729073.\n",
      "\u001b[4A\u001b[J     total [#############################################.....] 91.67%\n",
      "this epoch [################..................................] 33.33%\n",
      "     11000 iter, 18 epoch / 20 epochs\n",
      "    124.41 iters/sec. Estimated time to finish: 0:00:08.037921.\n",
      "\u001b[4A\u001b[J     total [##############################################....] 92.50%\n",
      "this epoch [#########################.........................] 50.00%\n",
      "     11100 iter, 18 epoch / 20 epochs\n",
      "    124.27 iters/sec. Estimated time to finish: 0:00:07.242180.\n",
      "\u001b[4A\u001b[J     total [##############################################....] 93.33%\n",
      "this epoch [#################################.................] 66.67%\n",
      "     11200 iter, 18 epoch / 20 epochs\n",
      "    124.72 iters/sec. Estimated time to finish: 0:00:06.414423.\n",
      "\u001b[4A\u001b[J     total [###############################################...] 94.17%\n",
      "this epoch [#########################################.........] 83.33%\n",
      "     11300 iter, 18 epoch / 20 epochs\n",
      "    124.18 iters/sec. Estimated time to finish: 0:00:05.636867.\n",
      "\u001b[4A\u001b[J19          0.951367       0.9494                    \n",
      "\u001b[J     total [###############################################...] 95.00%\n",
      "this epoch [..................................................]  0.00%\n",
      "     11400 iter, 19 epoch / 20 epochs\n",
      "    122.54 iters/sec. Estimated time to finish: 0:00:04.896440.\n",
      "\u001b[4A\u001b[J     total [###############################################...] 95.83%\n",
      "this epoch [########..........................................] 16.67%\n",
      "     11500 iter, 19 epoch / 20 epochs\n",
      "    122.52 iters/sec. Estimated time to finish: 0:00:04.080904.\n",
      "\u001b[4A\u001b[J     total [################################################..] 96.67%\n",
      "this epoch [################..................................] 33.33%\n",
      "     11600 iter, 19 epoch / 20 epochs\n",
      "    121.91 iters/sec. Estimated time to finish: 0:00:03.281095.\n",
      "\u001b[4A\u001b[J     total [################################################..] 97.50%\n",
      "this epoch [#########################.........................] 50.00%\n",
      "     11700 iter, 19 epoch / 20 epochs\n",
      "    120.84 iters/sec. Estimated time to finish: 0:00:02.482591.\n",
      "\u001b[4A\u001b[J     total [#################################################.] 98.33%\n",
      "this epoch [#################################.................] 66.67%\n",
      "     11800 iter, 19 epoch / 20 epochs\n",
      "    121.27 iters/sec. Estimated time to finish: 0:00:01.649229.\n",
      "\u001b[4A\u001b[J     total [#################################################.] 99.17%\n",
      "this epoch [#########################################.........] 83.33%\n",
      "     11900 iter, 19 epoch / 20 epochs\n",
      "    121.26 iters/sec. Estimated time to finish: 0:00:00.824699.\n",
      "\u001b[4A\u001b[J20          0.952867       0.9505                    \n",
      "\u001b[J     total [##################################################] 100.00%\n",
      "this epoch [..................................................]  0.00%\n",
      "     12000 iter, 20 epoch / 20 epochs\n",
      "     119.2 iters/sec. Estimated time to finish: 0:00:00.\n",
      "\u001b[4A\u001b[J"
     ]
    }
   ],
   "source": [
    "trainer.extend(extensions.ProgressBar())\n",
    "trainer.run()"
   ]
  },
  {
   "cell_type": "code",
   "execution_count": null,
   "metadata": {
    "collapsed": true
   },
   "outputs": [],
   "source": []
  }
 ],
 "metadata": {
  "kernelspec": {
   "display_name": "Python 2",
   "language": "python",
   "name": "python2"
  },
  "language_info": {
   "codemirror_mode": {
    "name": "ipython",
    "version": 2
   },
   "file_extension": ".py",
   "mimetype": "text/x-python",
   "name": "python",
   "nbconvert_exporter": "python",
   "pygments_lexer": "ipython2",
   "version": "2.7.12"
  }
 },
 "nbformat": 4,
 "nbformat_minor": 1
}
