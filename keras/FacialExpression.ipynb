{
 "cells": [
  {
   "cell_type": "code",
   "execution_count": 1,
   "metadata": {
    "collapsed": true
   },
   "outputs": [],
   "source": [
    "import os\n",
    "\n",
    "import numpy as np\n",
    "from pandas.io.parsers import read_csv\n",
    "from sklearn.utils import shuffle"
   ]
  },
  {
   "cell_type": "code",
   "execution_count": 2,
   "metadata": {
    "collapsed": true
   },
   "outputs": [],
   "source": [
    "FTRAIN = 'data/training.csv'\n",
    "FTEST = 'data/test.csv'\n",
    "\n",
    "def load(test=False, cols=None):\n",
    "    \"\"\"testがTrueの場合はFTESTからデータを読み込み、Falseの場合はFTRAINから読み込みます。\n",
    "    colsにリストが渡された場合にはそのカラムに関するデータのみ返します。\n",
    "    \"\"\"\n",
    "\n",
    "    fname = FTEST if test else FTRAIN\n",
    "    df = read_csv(os.path.expanduser(fname)) # pandasのdataframeを使用\n",
    "\n",
    "    # スペースで句切られているピクセル値をnumpy arrayに変換\n",
    "    df['Image'] = df['Image'].apply(lambda im: np.fromstring(im, sep=' '))\n",
    "\n",
    "    if cols:  # カラムに関連するデータのみを抽出\n",
    "        df = df[list(cols) + ['Image']]\n",
    "\n",
    "    print(df.count())  # カラム毎に値が存在する行数を出力\n",
    "    df = df.dropna()  # データが欠けている行は捨てる\n",
    "\n",
    "    X = np.vstack(df['Image'].values) / 255.  # 0から1の値に変換\n",
    "    X = X.astype(np.float32)\n",
    "\n",
    "    if not test:  # ラベルが存在するのはFTRAINのみ\n",
    "        y = df[df.columns[:-1]].values\n",
    "        y = (y - 48) / 48  # -1から1の値に変換\n",
    "        X, y = shuffle(X, y, random_state=42)  # データをシャッフル\n",
    "        y = y.astype(np.float32)\n",
    "    else:\n",
    "        y = None\n",
    "\n",
    "    return X, y"
   ]
  },
  {
   "cell_type": "code",
   "execution_count": null,
   "metadata": {
    "collapsed": true
   },
   "outputs": [],
   "source": []
  }
 ],
 "metadata": {
  "kernelspec": {
   "display_name": "Python 2",
   "language": "python",
   "name": "python2"
  },
  "language_info": {
   "codemirror_mode": {
    "name": "ipython",
    "version": 2
   },
   "file_extension": ".py",
   "mimetype": "text/x-python",
   "name": "python",
   "nbconvert_exporter": "python",
   "pygments_lexer": "ipython2",
   "version": "2.7.12"
  }
 },
 "nbformat": 4,
 "nbformat_minor": 1
}
